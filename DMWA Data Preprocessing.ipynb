{
 "cells": [
  {
   "cell_type": "code",
   "execution_count": 1,
   "metadata": {},
   "outputs": [],
   "source": [
    "import pandas as pd\n",
    "from warnings import filterwarnings\n",
    "filterwarnings('ignore')\n",
    "import klib\n",
    "import matplotlib.pyplot as plt\n",
    "import seaborn as sns\n",
    "import scipy.stats as stats\n",
    "import warnings\n",
    "warnings.filterwarnings(\"ignore\")\n",
    "\n",
    "%matplotlib inline\n",
    "\n",
    "\n",
    "plt.style.use('seaborn')"
   ]
  },
  {
   "cell_type": "code",
   "execution_count": 2,
   "metadata": {},
   "outputs": [],
   "source": [
    "d=pd.read_csv(\"HotelCustomerData.csv\")"
   ]
  },
  {
   "cell_type": "code",
   "execution_count": 3,
   "metadata": {},
   "outputs": [
    {
     "data": {
      "text/html": [
       "<div>\n",
       "<style scoped>\n",
       "    .dataframe tbody tr th:only-of-type {\n",
       "        vertical-align: middle;\n",
       "    }\n",
       "\n",
       "    .dataframe tbody tr th {\n",
       "        vertical-align: top;\n",
       "    }\n",
       "\n",
       "    .dataframe thead th {\n",
       "        text-align: right;\n",
       "    }\n",
       "</style>\n",
       "<table border=\"1\" class=\"dataframe\">\n",
       "  <thead>\n",
       "    <tr style=\"text-align: right;\">\n",
       "      <th></th>\n",
       "      <th>ID</th>\n",
       "      <th>Nationality</th>\n",
       "      <th>Age</th>\n",
       "      <th>DaysSinceCreation</th>\n",
       "      <th>NameHash</th>\n",
       "      <th>DocIDHash</th>\n",
       "      <th>AverageLeadTime</th>\n",
       "      <th>LodgingRevenue</th>\n",
       "      <th>OtherRevenue</th>\n",
       "      <th>BookingsCanceled</th>\n",
       "      <th>...</th>\n",
       "      <th>SRMediumFloor</th>\n",
       "      <th>SRBathtub</th>\n",
       "      <th>SRShower</th>\n",
       "      <th>SRCrib</th>\n",
       "      <th>SRKingSizeBed</th>\n",
       "      <th>SRTwinBed</th>\n",
       "      <th>SRNearElevator</th>\n",
       "      <th>SRAwayFromElevator</th>\n",
       "      <th>SRNoAlcoholInMiniBar</th>\n",
       "      <th>SRQuietRoom</th>\n",
       "    </tr>\n",
       "  </thead>\n",
       "  <tbody>\n",
       "    <tr>\n",
       "      <th>0</th>\n",
       "      <td>1</td>\n",
       "      <td>PRT</td>\n",
       "      <td>51.0</td>\n",
       "      <td>150</td>\n",
       "      <td>0x8E0A7AF39B633D5EA25C3B7EF4DFC5464B36DB7AF375...</td>\n",
       "      <td>0x71568459B729F7A7ABBED6C781A84CA4274D571003AC...</td>\n",
       "      <td>45</td>\n",
       "      <td>371.0</td>\n",
       "      <td>105.3</td>\n",
       "      <td>1</td>\n",
       "      <td>...</td>\n",
       "      <td>0</td>\n",
       "      <td>0</td>\n",
       "      <td>0</td>\n",
       "      <td>0</td>\n",
       "      <td>0</td>\n",
       "      <td>0</td>\n",
       "      <td>0</td>\n",
       "      <td>0</td>\n",
       "      <td>0</td>\n",
       "      <td>0</td>\n",
       "    </tr>\n",
       "    <tr>\n",
       "      <th>1</th>\n",
       "      <td>2</td>\n",
       "      <td>PRT</td>\n",
       "      <td>NaN</td>\n",
       "      <td>1095</td>\n",
       "      <td>0x21EDE41906B45079E75385B5AA33287CA09DE1AB86DE...</td>\n",
       "      <td>0x5FA1E0098A31497057C5A6B9FE9D49FD6DD47CCE7C26...</td>\n",
       "      <td>61</td>\n",
       "      <td>280.0</td>\n",
       "      <td>53.0</td>\n",
       "      <td>0</td>\n",
       "      <td>...</td>\n",
       "      <td>0</td>\n",
       "      <td>0</td>\n",
       "      <td>0</td>\n",
       "      <td>0</td>\n",
       "      <td>0</td>\n",
       "      <td>0</td>\n",
       "      <td>0</td>\n",
       "      <td>0</td>\n",
       "      <td>0</td>\n",
       "      <td>0</td>\n",
       "    </tr>\n",
       "    <tr>\n",
       "      <th>2</th>\n",
       "      <td>3</td>\n",
       "      <td>DEU</td>\n",
       "      <td>31.0</td>\n",
       "      <td>1095</td>\n",
       "      <td>0x31C5E4B74E23231295FDB724AD578C02C4A723F4BA2B...</td>\n",
       "      <td>0xC7CF344F5B03295037595B1337AC905CA188F1B5B3A5...</td>\n",
       "      <td>0</td>\n",
       "      <td>0.0</td>\n",
       "      <td>0.0</td>\n",
       "      <td>0</td>\n",
       "      <td>...</td>\n",
       "      <td>0</td>\n",
       "      <td>0</td>\n",
       "      <td>0</td>\n",
       "      <td>0</td>\n",
       "      <td>0</td>\n",
       "      <td>0</td>\n",
       "      <td>0</td>\n",
       "      <td>0</td>\n",
       "      <td>0</td>\n",
       "      <td>0</td>\n",
       "    </tr>\n",
       "    <tr>\n",
       "      <th>3</th>\n",
       "      <td>4</td>\n",
       "      <td>FRA</td>\n",
       "      <td>60.0</td>\n",
       "      <td>1095</td>\n",
       "      <td>0xFF534C83C0EF23D1CE516BC80A65D0197003D27937D4...</td>\n",
       "      <td>0xBD3823A9B4EC35D6CAF4B27AE423A677C0200DB61E82...</td>\n",
       "      <td>93</td>\n",
       "      <td>240.0</td>\n",
       "      <td>60.0</td>\n",
       "      <td>0</td>\n",
       "      <td>...</td>\n",
       "      <td>0</td>\n",
       "      <td>0</td>\n",
       "      <td>0</td>\n",
       "      <td>0</td>\n",
       "      <td>0</td>\n",
       "      <td>0</td>\n",
       "      <td>0</td>\n",
       "      <td>0</td>\n",
       "      <td>0</td>\n",
       "      <td>0</td>\n",
       "    </tr>\n",
       "    <tr>\n",
       "      <th>4</th>\n",
       "      <td>5</td>\n",
       "      <td>FRA</td>\n",
       "      <td>51.0</td>\n",
       "      <td>1095</td>\n",
       "      <td>0x9C1DEF02C9BE242842C1C1ABF2C5AA249A1EEB4763B4...</td>\n",
       "      <td>0xE175754CF77247B202DD0820F49407C762C14A603B3A...</td>\n",
       "      <td>0</td>\n",
       "      <td>0.0</td>\n",
       "      <td>0.0</td>\n",
       "      <td>0</td>\n",
       "      <td>...</td>\n",
       "      <td>0</td>\n",
       "      <td>0</td>\n",
       "      <td>0</td>\n",
       "      <td>0</td>\n",
       "      <td>0</td>\n",
       "      <td>0</td>\n",
       "      <td>0</td>\n",
       "      <td>0</td>\n",
       "      <td>0</td>\n",
       "      <td>0</td>\n",
       "    </tr>\n",
       "  </tbody>\n",
       "</table>\n",
       "<p>5 rows × 31 columns</p>\n",
       "</div>"
      ],
      "text/plain": [
       "   ID Nationality   Age  DaysSinceCreation  \\\n",
       "0   1         PRT  51.0                150   \n",
       "1   2         PRT   NaN               1095   \n",
       "2   3         DEU  31.0               1095   \n",
       "3   4         FRA  60.0               1095   \n",
       "4   5         FRA  51.0               1095   \n",
       "\n",
       "                                            NameHash  \\\n",
       "0  0x8E0A7AF39B633D5EA25C3B7EF4DFC5464B36DB7AF375...   \n",
       "1  0x21EDE41906B45079E75385B5AA33287CA09DE1AB86DE...   \n",
       "2  0x31C5E4B74E23231295FDB724AD578C02C4A723F4BA2B...   \n",
       "3  0xFF534C83C0EF23D1CE516BC80A65D0197003D27937D4...   \n",
       "4  0x9C1DEF02C9BE242842C1C1ABF2C5AA249A1EEB4763B4...   \n",
       "\n",
       "                                           DocIDHash  AverageLeadTime  \\\n",
       "0  0x71568459B729F7A7ABBED6C781A84CA4274D571003AC...               45   \n",
       "1  0x5FA1E0098A31497057C5A6B9FE9D49FD6DD47CCE7C26...               61   \n",
       "2  0xC7CF344F5B03295037595B1337AC905CA188F1B5B3A5...                0   \n",
       "3  0xBD3823A9B4EC35D6CAF4B27AE423A677C0200DB61E82...               93   \n",
       "4  0xE175754CF77247B202DD0820F49407C762C14A603B3A...                0   \n",
       "\n",
       "   LodgingRevenue  OtherRevenue  BookingsCanceled  ...  SRMediumFloor  \\\n",
       "0           371.0         105.3                 1  ...              0   \n",
       "1           280.0          53.0                 0  ...              0   \n",
       "2             0.0           0.0                 0  ...              0   \n",
       "3           240.0          60.0                 0  ...              0   \n",
       "4             0.0           0.0                 0  ...              0   \n",
       "\n",
       "   SRBathtub  SRShower  SRCrib  SRKingSizeBed  SRTwinBed SRNearElevator  \\\n",
       "0          0         0       0              0          0              0   \n",
       "1          0         0       0              0          0              0   \n",
       "2          0         0       0              0          0              0   \n",
       "3          0         0       0              0          0              0   \n",
       "4          0         0       0              0          0              0   \n",
       "\n",
       "  SRAwayFromElevator  SRNoAlcoholInMiniBar  SRQuietRoom  \n",
       "0                  0                     0            0  \n",
       "1                  0                     0            0  \n",
       "2                  0                     0            0  \n",
       "3                  0                     0            0  \n",
       "4                  0                     0            0  \n",
       "\n",
       "[5 rows x 31 columns]"
      ]
     },
     "execution_count": 3,
     "metadata": {},
     "output_type": "execute_result"
    }
   ],
   "source": [
    "d.head()"
   ]
  },
  {
   "cell_type": "code",
   "execution_count": 4,
   "metadata": {},
   "outputs": [
    {
     "data": {
      "text/plain": [
       "83590"
      ]
     },
     "execution_count": 4,
     "metadata": {},
     "output_type": "execute_result"
    }
   ],
   "source": [
    "len(d['NameHash'])"
   ]
  },
  {
   "cell_type": "code",
   "execution_count": 5,
   "metadata": {},
   "outputs": [
    {
     "data": {
      "text/plain": [
       "80642"
      ]
     },
     "execution_count": 5,
     "metadata": {},
     "output_type": "execute_result"
    }
   ],
   "source": [
    "d['NameHash'].nunique()"
   ]
  },
  {
   "cell_type": "code",
   "execution_count": 6,
   "metadata": {},
   "outputs": [
    {
     "name": "stdout",
     "output_type": "stream",
     "text": [
      "<class 'pandas.core.frame.DataFrame'>\n",
      "RangeIndex: 83590 entries, 0 to 83589\n",
      "Data columns (total 31 columns):\n",
      " #   Column                Non-Null Count  Dtype  \n",
      "---  ------                --------------  -----  \n",
      " 0   ID                    83590 non-null  int64  \n",
      " 1   Nationality           83590 non-null  object \n",
      " 2   Age                   79811 non-null  float64\n",
      " 3   DaysSinceCreation     83590 non-null  int64  \n",
      " 4   NameHash              83590 non-null  object \n",
      " 5   DocIDHash             83590 non-null  object \n",
      " 6   AverageLeadTime       83590 non-null  int64  \n",
      " 7   LodgingRevenue        83590 non-null  float64\n",
      " 8   OtherRevenue          83590 non-null  float64\n",
      " 9   BookingsCanceled      83590 non-null  int64  \n",
      " 10  BookingsNoShowed      83590 non-null  int64  \n",
      " 11  BookingsCheckedIn     83590 non-null  int64  \n",
      " 12  PersonsNights         83590 non-null  int64  \n",
      " 13  RoomNights            83590 non-null  int64  \n",
      " 14  DaysSinceLastStay     83590 non-null  int64  \n",
      " 15  DaysSinceFirstStay    83590 non-null  int64  \n",
      " 16  DistributionChannel   83590 non-null  object \n",
      " 17  MarketSegment         83590 non-null  object \n",
      " 18  SRHighFloor           83590 non-null  int64  \n",
      " 19  SRLowFloor            83590 non-null  int64  \n",
      " 20  SRAccessibleRoom      83590 non-null  int64  \n",
      " 21  SRMediumFloor         83590 non-null  int64  \n",
      " 22  SRBathtub             83590 non-null  int64  \n",
      " 23  SRShower              83590 non-null  int64  \n",
      " 24  SRCrib                83590 non-null  int64  \n",
      " 25  SRKingSizeBed         83590 non-null  int64  \n",
      " 26  SRTwinBed             83590 non-null  int64  \n",
      " 27  SRNearElevator        83590 non-null  int64  \n",
      " 28  SRAwayFromElevator    83590 non-null  int64  \n",
      " 29  SRNoAlcoholInMiniBar  83590 non-null  int64  \n",
      " 30  SRQuietRoom           83590 non-null  int64  \n",
      "dtypes: float64(3), int64(23), object(5)\n",
      "memory usage: 19.8+ MB\n"
     ]
    }
   ],
   "source": [
    "d.info()"
   ]
  },
  {
   "cell_type": "code",
   "execution_count": 7,
   "metadata": {},
   "outputs": [
    {
     "data": {
      "text/html": [
       "<div>\n",
       "<style scoped>\n",
       "    .dataframe tbody tr th:only-of-type {\n",
       "        vertical-align: middle;\n",
       "    }\n",
       "\n",
       "    .dataframe tbody tr th {\n",
       "        vertical-align: top;\n",
       "    }\n",
       "\n",
       "    .dataframe thead th {\n",
       "        text-align: right;\n",
       "    }\n",
       "</style>\n",
       "<table border=\"1\" class=\"dataframe\">\n",
       "  <thead>\n",
       "    <tr style=\"text-align: right;\">\n",
       "      <th></th>\n",
       "      <th>ID</th>\n",
       "      <th>Age</th>\n",
       "      <th>DaysSinceCreation</th>\n",
       "      <th>AverageLeadTime</th>\n",
       "      <th>LodgingRevenue</th>\n",
       "      <th>OtherRevenue</th>\n",
       "      <th>BookingsCanceled</th>\n",
       "      <th>BookingsNoShowed</th>\n",
       "      <th>BookingsCheckedIn</th>\n",
       "      <th>PersonsNights</th>\n",
       "      <th>...</th>\n",
       "      <th>SRMediumFloor</th>\n",
       "      <th>SRBathtub</th>\n",
       "      <th>SRShower</th>\n",
       "      <th>SRCrib</th>\n",
       "      <th>SRKingSizeBed</th>\n",
       "      <th>SRTwinBed</th>\n",
       "      <th>SRNearElevator</th>\n",
       "      <th>SRAwayFromElevator</th>\n",
       "      <th>SRNoAlcoholInMiniBar</th>\n",
       "      <th>SRQuietRoom</th>\n",
       "    </tr>\n",
       "  </thead>\n",
       "  <tbody>\n",
       "    <tr>\n",
       "      <th>count</th>\n",
       "      <td>83590.000000</td>\n",
       "      <td>79811.000000</td>\n",
       "      <td>83590.000000</td>\n",
       "      <td>83590.000000</td>\n",
       "      <td>83590.000000</td>\n",
       "      <td>83590.000000</td>\n",
       "      <td>83590.000000</td>\n",
       "      <td>83590.000000</td>\n",
       "      <td>83590.000000</td>\n",
       "      <td>83590.000000</td>\n",
       "      <td>...</td>\n",
       "      <td>83590.000000</td>\n",
       "      <td>83590.000000</td>\n",
       "      <td>83590.000000</td>\n",
       "      <td>83590.000000</td>\n",
       "      <td>83590.000000</td>\n",
       "      <td>83590.000000</td>\n",
       "      <td>83590.000000</td>\n",
       "      <td>83590.000000</td>\n",
       "      <td>83590.000000</td>\n",
       "      <td>83590.000000</td>\n",
       "    </tr>\n",
       "    <tr>\n",
       "      <th>mean</th>\n",
       "      <td>41795.500000</td>\n",
       "      <td>45.398028</td>\n",
       "      <td>453.640902</td>\n",
       "      <td>66.196028</td>\n",
       "      <td>298.802087</td>\n",
       "      <td>67.589132</td>\n",
       "      <td>0.002022</td>\n",
       "      <td>0.000634</td>\n",
       "      <td>0.794617</td>\n",
       "      <td>4.649133</td>\n",
       "      <td>...</td>\n",
       "      <td>0.000873</td>\n",
       "      <td>0.002847</td>\n",
       "      <td>0.001711</td>\n",
       "      <td>0.013219</td>\n",
       "      <td>0.352686</td>\n",
       "      <td>0.142541</td>\n",
       "      <td>0.000335</td>\n",
       "      <td>0.003505</td>\n",
       "      <td>0.000120</td>\n",
       "      <td>0.088372</td>\n",
       "    </tr>\n",
       "    <tr>\n",
       "      <th>std</th>\n",
       "      <td>24130.498838</td>\n",
       "      <td>16.572368</td>\n",
       "      <td>313.390291</td>\n",
       "      <td>87.758990</td>\n",
       "      <td>372.851892</td>\n",
       "      <td>114.327776</td>\n",
       "      <td>0.066770</td>\n",
       "      <td>0.029545</td>\n",
       "      <td>0.695778</td>\n",
       "      <td>4.567673</td>\n",
       "      <td>...</td>\n",
       "      <td>0.029539</td>\n",
       "      <td>0.053284</td>\n",
       "      <td>0.041326</td>\n",
       "      <td>0.114213</td>\n",
       "      <td>0.477809</td>\n",
       "      <td>0.349606</td>\n",
       "      <td>0.018299</td>\n",
       "      <td>0.059101</td>\n",
       "      <td>0.010937</td>\n",
       "      <td>0.283837</td>\n",
       "    </tr>\n",
       "    <tr>\n",
       "      <th>min</th>\n",
       "      <td>1.000000</td>\n",
       "      <td>-11.000000</td>\n",
       "      <td>0.000000</td>\n",
       "      <td>-1.000000</td>\n",
       "      <td>0.000000</td>\n",
       "      <td>0.000000</td>\n",
       "      <td>0.000000</td>\n",
       "      <td>0.000000</td>\n",
       "      <td>0.000000</td>\n",
       "      <td>0.000000</td>\n",
       "      <td>...</td>\n",
       "      <td>0.000000</td>\n",
       "      <td>0.000000</td>\n",
       "      <td>0.000000</td>\n",
       "      <td>0.000000</td>\n",
       "      <td>0.000000</td>\n",
       "      <td>0.000000</td>\n",
       "      <td>0.000000</td>\n",
       "      <td>0.000000</td>\n",
       "      <td>0.000000</td>\n",
       "      <td>0.000000</td>\n",
       "    </tr>\n",
       "    <tr>\n",
       "      <th>25%</th>\n",
       "      <td>20898.250000</td>\n",
       "      <td>34.000000</td>\n",
       "      <td>177.000000</td>\n",
       "      <td>0.000000</td>\n",
       "      <td>59.000000</td>\n",
       "      <td>2.000000</td>\n",
       "      <td>0.000000</td>\n",
       "      <td>0.000000</td>\n",
       "      <td>1.000000</td>\n",
       "      <td>1.000000</td>\n",
       "      <td>...</td>\n",
       "      <td>0.000000</td>\n",
       "      <td>0.000000</td>\n",
       "      <td>0.000000</td>\n",
       "      <td>0.000000</td>\n",
       "      <td>0.000000</td>\n",
       "      <td>0.000000</td>\n",
       "      <td>0.000000</td>\n",
       "      <td>0.000000</td>\n",
       "      <td>0.000000</td>\n",
       "      <td>0.000000</td>\n",
       "    </tr>\n",
       "    <tr>\n",
       "      <th>50%</th>\n",
       "      <td>41795.500000</td>\n",
       "      <td>46.000000</td>\n",
       "      <td>397.000000</td>\n",
       "      <td>29.000000</td>\n",
       "      <td>234.000000</td>\n",
       "      <td>38.500000</td>\n",
       "      <td>0.000000</td>\n",
       "      <td>0.000000</td>\n",
       "      <td>1.000000</td>\n",
       "      <td>4.000000</td>\n",
       "      <td>...</td>\n",
       "      <td>0.000000</td>\n",
       "      <td>0.000000</td>\n",
       "      <td>0.000000</td>\n",
       "      <td>0.000000</td>\n",
       "      <td>0.000000</td>\n",
       "      <td>0.000000</td>\n",
       "      <td>0.000000</td>\n",
       "      <td>0.000000</td>\n",
       "      <td>0.000000</td>\n",
       "      <td>0.000000</td>\n",
       "    </tr>\n",
       "    <tr>\n",
       "      <th>75%</th>\n",
       "      <td>62692.750000</td>\n",
       "      <td>57.000000</td>\n",
       "      <td>723.000000</td>\n",
       "      <td>103.000000</td>\n",
       "      <td>402.000000</td>\n",
       "      <td>87.675000</td>\n",
       "      <td>0.000000</td>\n",
       "      <td>0.000000</td>\n",
       "      <td>1.000000</td>\n",
       "      <td>6.000000</td>\n",
       "      <td>...</td>\n",
       "      <td>0.000000</td>\n",
       "      <td>0.000000</td>\n",
       "      <td>0.000000</td>\n",
       "      <td>0.000000</td>\n",
       "      <td>1.000000</td>\n",
       "      <td>0.000000</td>\n",
       "      <td>0.000000</td>\n",
       "      <td>0.000000</td>\n",
       "      <td>0.000000</td>\n",
       "      <td>0.000000</td>\n",
       "    </tr>\n",
       "    <tr>\n",
       "      <th>max</th>\n",
       "      <td>83590.000000</td>\n",
       "      <td>122.000000</td>\n",
       "      <td>1095.000000</td>\n",
       "      <td>588.000000</td>\n",
       "      <td>21781.000000</td>\n",
       "      <td>7730.250000</td>\n",
       "      <td>9.000000</td>\n",
       "      <td>3.000000</td>\n",
       "      <td>66.000000</td>\n",
       "      <td>116.000000</td>\n",
       "      <td>...</td>\n",
       "      <td>1.000000</td>\n",
       "      <td>1.000000</td>\n",
       "      <td>1.000000</td>\n",
       "      <td>1.000000</td>\n",
       "      <td>1.000000</td>\n",
       "      <td>1.000000</td>\n",
       "      <td>1.000000</td>\n",
       "      <td>1.000000</td>\n",
       "      <td>1.000000</td>\n",
       "      <td>1.000000</td>\n",
       "    </tr>\n",
       "  </tbody>\n",
       "</table>\n",
       "<p>8 rows × 26 columns</p>\n",
       "</div>"
      ],
      "text/plain": [
       "                 ID           Age  DaysSinceCreation  AverageLeadTime  \\\n",
       "count  83590.000000  79811.000000       83590.000000     83590.000000   \n",
       "mean   41795.500000     45.398028         453.640902        66.196028   \n",
       "std    24130.498838     16.572368         313.390291        87.758990   \n",
       "min        1.000000    -11.000000           0.000000        -1.000000   \n",
       "25%    20898.250000     34.000000         177.000000         0.000000   \n",
       "50%    41795.500000     46.000000         397.000000        29.000000   \n",
       "75%    62692.750000     57.000000         723.000000       103.000000   \n",
       "max    83590.000000    122.000000        1095.000000       588.000000   \n",
       "\n",
       "       LodgingRevenue  OtherRevenue  BookingsCanceled  BookingsNoShowed  \\\n",
       "count    83590.000000  83590.000000      83590.000000      83590.000000   \n",
       "mean       298.802087     67.589132          0.002022          0.000634   \n",
       "std        372.851892    114.327776          0.066770          0.029545   \n",
       "min          0.000000      0.000000          0.000000          0.000000   \n",
       "25%         59.000000      2.000000          0.000000          0.000000   \n",
       "50%        234.000000     38.500000          0.000000          0.000000   \n",
       "75%        402.000000     87.675000          0.000000          0.000000   \n",
       "max      21781.000000   7730.250000          9.000000          3.000000   \n",
       "\n",
       "       BookingsCheckedIn  PersonsNights  ...  SRMediumFloor     SRBathtub  \\\n",
       "count       83590.000000   83590.000000  ...   83590.000000  83590.000000   \n",
       "mean            0.794617       4.649133  ...       0.000873      0.002847   \n",
       "std             0.695778       4.567673  ...       0.029539      0.053284   \n",
       "min             0.000000       0.000000  ...       0.000000      0.000000   \n",
       "25%             1.000000       1.000000  ...       0.000000      0.000000   \n",
       "50%             1.000000       4.000000  ...       0.000000      0.000000   \n",
       "75%             1.000000       6.000000  ...       0.000000      0.000000   \n",
       "max            66.000000     116.000000  ...       1.000000      1.000000   \n",
       "\n",
       "           SRShower        SRCrib  SRKingSizeBed     SRTwinBed  \\\n",
       "count  83590.000000  83590.000000   83590.000000  83590.000000   \n",
       "mean       0.001711      0.013219       0.352686      0.142541   \n",
       "std        0.041326      0.114213       0.477809      0.349606   \n",
       "min        0.000000      0.000000       0.000000      0.000000   \n",
       "25%        0.000000      0.000000       0.000000      0.000000   \n",
       "50%        0.000000      0.000000       0.000000      0.000000   \n",
       "75%        0.000000      0.000000       1.000000      0.000000   \n",
       "max        1.000000      1.000000       1.000000      1.000000   \n",
       "\n",
       "       SRNearElevator  SRAwayFromElevator  SRNoAlcoholInMiniBar   SRQuietRoom  \n",
       "count    83590.000000        83590.000000          83590.000000  83590.000000  \n",
       "mean         0.000335            0.003505              0.000120      0.088372  \n",
       "std          0.018299            0.059101              0.010937      0.283837  \n",
       "min          0.000000            0.000000              0.000000      0.000000  \n",
       "25%          0.000000            0.000000              0.000000      0.000000  \n",
       "50%          0.000000            0.000000              0.000000      0.000000  \n",
       "75%          0.000000            0.000000              0.000000      0.000000  \n",
       "max          1.000000            1.000000              1.000000      1.000000  \n",
       "\n",
       "[8 rows x 26 columns]"
      ]
     },
     "execution_count": 7,
     "metadata": {},
     "output_type": "execute_result"
    }
   ],
   "source": [
    "d.describe()"
   ]
  },
  {
   "cell_type": "code",
   "execution_count": 8,
   "metadata": {},
   "outputs": [],
   "source": [
    "d1=d"
   ]
  },
  {
   "cell_type": "code",
   "execution_count": 9,
   "metadata": {},
   "outputs": [],
   "source": [
    "d1.drop(['NameHash'],axis=1,inplace=True) # dropping high cardinality /irrelvant varibales in the dataframe"
   ]
  },
  {
   "cell_type": "code",
   "execution_count": 10,
   "metadata": {},
   "outputs": [
    {
     "name": "stdout",
     "output_type": "stream",
     "text": [
      "<class 'pandas.core.frame.DataFrame'>\n",
      "RangeIndex: 83590 entries, 0 to 83589\n",
      "Data columns (total 30 columns):\n",
      " #   Column                Non-Null Count  Dtype  \n",
      "---  ------                --------------  -----  \n",
      " 0   ID                    83590 non-null  int64  \n",
      " 1   Nationality           83590 non-null  object \n",
      " 2   Age                   79811 non-null  float64\n",
      " 3   DaysSinceCreation     83590 non-null  int64  \n",
      " 4   DocIDHash             83590 non-null  object \n",
      " 5   AverageLeadTime       83590 non-null  int64  \n",
      " 6   LodgingRevenue        83590 non-null  float64\n",
      " 7   OtherRevenue          83590 non-null  float64\n",
      " 8   BookingsCanceled      83590 non-null  int64  \n",
      " 9   BookingsNoShowed      83590 non-null  int64  \n",
      " 10  BookingsCheckedIn     83590 non-null  int64  \n",
      " 11  PersonsNights         83590 non-null  int64  \n",
      " 12  RoomNights            83590 non-null  int64  \n",
      " 13  DaysSinceLastStay     83590 non-null  int64  \n",
      " 14  DaysSinceFirstStay    83590 non-null  int64  \n",
      " 15  DistributionChannel   83590 non-null  object \n",
      " 16  MarketSegment         83590 non-null  object \n",
      " 17  SRHighFloor           83590 non-null  int64  \n",
      " 18  SRLowFloor            83590 non-null  int64  \n",
      " 19  SRAccessibleRoom      83590 non-null  int64  \n",
      " 20  SRMediumFloor         83590 non-null  int64  \n",
      " 21  SRBathtub             83590 non-null  int64  \n",
      " 22  SRShower              83590 non-null  int64  \n",
      " 23  SRCrib                83590 non-null  int64  \n",
      " 24  SRKingSizeBed         83590 non-null  int64  \n",
      " 25  SRTwinBed             83590 non-null  int64  \n",
      " 26  SRNearElevator        83590 non-null  int64  \n",
      " 27  SRAwayFromElevator    83590 non-null  int64  \n",
      " 28  SRNoAlcoholInMiniBar  83590 non-null  int64  \n",
      " 29  SRQuietRoom           83590 non-null  int64  \n",
      "dtypes: float64(3), int64(23), object(4)\n",
      "memory usage: 19.1+ MB\n"
     ]
    }
   ],
   "source": [
    "d1.info()"
   ]
  },
  {
   "cell_type": "code",
   "execution_count": 11,
   "metadata": {
    "scrolled": true
   },
   "outputs": [
    {
     "data": {
      "text/plain": [
       "Index(['ID', 'Nationality', 'Age', 'DaysSinceCreation', 'DocIDHash',\n",
       "       'AverageLeadTime', 'LodgingRevenue', 'OtherRevenue', 'BookingsCanceled',\n",
       "       'BookingsNoShowed', 'BookingsCheckedIn', 'PersonsNights', 'RoomNights',\n",
       "       'DaysSinceLastStay', 'DaysSinceFirstStay', 'DistributionChannel',\n",
       "       'MarketSegment', 'SRHighFloor', 'SRLowFloor', 'SRAccessibleRoom',\n",
       "       'SRMediumFloor', 'SRBathtub', 'SRShower', 'SRCrib', 'SRKingSizeBed',\n",
       "       'SRTwinBed', 'SRNearElevator', 'SRAwayFromElevator',\n",
       "       'SRNoAlcoholInMiniBar', 'SRQuietRoom'],\n",
       "      dtype='object')"
      ]
     },
     "execution_count": 11,
     "metadata": {},
     "output_type": "execute_result"
    }
   ],
   "source": [
    "d1.columns"
   ]
  },
  {
   "cell_type": "code",
   "execution_count": 12,
   "metadata": {},
   "outputs": [
    {
     "data": {
      "text/plain": [
       "ID                      83590\n",
       "DocIDHash               76993\n",
       "LodgingRevenue          10257\n",
       "OtherRevenue             4490\n",
       "DaysSinceFirstStay       1108\n",
       "DaysSinceLastStay        1105\n",
       "DaysSinceCreation        1095\n",
       "AverageLeadTime           418\n",
       "Nationality               188\n",
       "Age                       105\n",
       "PersonsNights              56\n",
       "RoomNights                 48\n",
       "BookingsCheckedIn          29\n",
       "MarketSegment               7\n",
       "BookingsCanceled            6\n",
       "DistributionChannel         4\n",
       "BookingsNoShowed            4\n",
       "SRHighFloor                 2\n",
       "SRLowFloor                  2\n",
       "SRAccessibleRoom            2\n",
       "SRMediumFloor               2\n",
       "SRBathtub                   2\n",
       "SRShower                    2\n",
       "SRCrib                      2\n",
       "SRKingSizeBed               2\n",
       "SRTwinBed                   2\n",
       "SRNearElevator              2\n",
       "SRAwayFromElevator          2\n",
       "SRNoAlcoholInMiniBar        2\n",
       "SRQuietRoom                 2\n",
       "dtype: int64"
      ]
     },
     "execution_count": 12,
     "metadata": {},
     "output_type": "execute_result"
    }
   ],
   "source": [
    "d1.nunique().sort_values(ascending=False)"
   ]
  },
  {
   "cell_type": "code",
   "execution_count": 13,
   "metadata": {},
   "outputs": [
    {
     "data": {
      "text/plain": [
       "ID                      24130.498838\n",
       "Age                        16.572368\n",
       "DaysSinceCreation         313.390291\n",
       "AverageLeadTime            87.758990\n",
       "LodgingRevenue            372.851892\n",
       "OtherRevenue              114.327776\n",
       "BookingsCanceled            0.066770\n",
       "BookingsNoShowed            0.029545\n",
       "BookingsCheckedIn           0.695778\n",
       "PersonsNights               4.567673\n",
       "RoomNights                  2.281746\n",
       "DaysSinceLastStay         347.204955\n",
       "DaysSinceFirstStay        347.971089\n",
       "SRHighFloor                 0.212668\n",
       "SRLowFloor                  0.037546\n",
       "SRAccessibleRoom            0.015848\n",
       "SRMediumFloor               0.029539\n",
       "SRBathtub                   0.053284\n",
       "SRShower                    0.041326\n",
       "SRCrib                      0.114213\n",
       "SRKingSizeBed               0.477809\n",
       "SRTwinBed                   0.349606\n",
       "SRNearElevator              0.018299\n",
       "SRAwayFromElevator          0.059101\n",
       "SRNoAlcoholInMiniBar        0.010937\n",
       "SRQuietRoom                 0.283837\n",
       "dtype: float64"
      ]
     },
     "execution_count": 13,
     "metadata": {},
     "output_type": "execute_result"
    }
   ],
   "source": [
    "d1.std()"
   ]
  },
  {
   "cell_type": "code",
   "execution_count": 14,
   "metadata": {},
   "outputs": [],
   "source": [
    "c=d1[d1['DaysSinceFirstStay']==-1].index"
   ]
  },
  {
   "cell_type": "code",
   "execution_count": 15,
   "metadata": {},
   "outputs": [
    {
     "data": {
      "text/plain": [
       "19920"
      ]
     },
     "execution_count": 15,
     "metadata": {},
     "output_type": "execute_result"
    }
   ],
   "source": [
    "len(c)"
   ]
  },
  {
   "cell_type": "code",
   "execution_count": 16,
   "metadata": {},
   "outputs": [],
   "source": [
    "d1.drop(c,inplace=True)"
   ]
  },
  {
   "cell_type": "code",
   "execution_count": 17,
   "metadata": {},
   "outputs": [
    {
     "data": {
      "text/html": [
       "<div>\n",
       "<style scoped>\n",
       "    .dataframe tbody tr th:only-of-type {\n",
       "        vertical-align: middle;\n",
       "    }\n",
       "\n",
       "    .dataframe tbody tr th {\n",
       "        vertical-align: top;\n",
       "    }\n",
       "\n",
       "    .dataframe thead th {\n",
       "        text-align: right;\n",
       "    }\n",
       "</style>\n",
       "<table border=\"1\" class=\"dataframe\">\n",
       "  <thead>\n",
       "    <tr style=\"text-align: right;\">\n",
       "      <th></th>\n",
       "      <th>ID</th>\n",
       "      <th>Nationality</th>\n",
       "      <th>Age</th>\n",
       "      <th>DaysSinceCreation</th>\n",
       "      <th>DocIDHash</th>\n",
       "      <th>AverageLeadTime</th>\n",
       "      <th>LodgingRevenue</th>\n",
       "      <th>OtherRevenue</th>\n",
       "      <th>BookingsCanceled</th>\n",
       "      <th>BookingsNoShowed</th>\n",
       "      <th>...</th>\n",
       "      <th>SRMediumFloor</th>\n",
       "      <th>SRBathtub</th>\n",
       "      <th>SRShower</th>\n",
       "      <th>SRCrib</th>\n",
       "      <th>SRKingSizeBed</th>\n",
       "      <th>SRTwinBed</th>\n",
       "      <th>SRNearElevator</th>\n",
       "      <th>SRAwayFromElevator</th>\n",
       "      <th>SRNoAlcoholInMiniBar</th>\n",
       "      <th>SRQuietRoom</th>\n",
       "    </tr>\n",
       "  </thead>\n",
       "  <tbody>\n",
       "  </tbody>\n",
       "</table>\n",
       "<p>0 rows × 30 columns</p>\n",
       "</div>"
      ],
      "text/plain": [
       "Empty DataFrame\n",
       "Columns: [ID, Nationality, Age, DaysSinceCreation, DocIDHash, AverageLeadTime, LodgingRevenue, OtherRevenue, BookingsCanceled, BookingsNoShowed, BookingsCheckedIn, PersonsNights, RoomNights, DaysSinceLastStay, DaysSinceFirstStay, DistributionChannel, MarketSegment, SRHighFloor, SRLowFloor, SRAccessibleRoom, SRMediumFloor, SRBathtub, SRShower, SRCrib, SRKingSizeBed, SRTwinBed, SRNearElevator, SRAwayFromElevator, SRNoAlcoholInMiniBar, SRQuietRoom]\n",
       "Index: []\n",
       "\n",
       "[0 rows x 30 columns]"
      ]
     },
     "execution_count": 17,
     "metadata": {},
     "output_type": "execute_result"
    }
   ],
   "source": [
    "d1[d1['DaysSinceFirstStay']==-1]"
   ]
  },
  {
   "cell_type": "code",
   "execution_count": 18,
   "metadata": {},
   "outputs": [],
   "source": [
    "import numpy as np"
   ]
  },
  {
   "cell_type": "code",
   "execution_count": 19,
   "metadata": {},
   "outputs": [
    {
     "data": {
      "text/plain": [
       "Index(['ID', 'Age', 'DaysSinceCreation', 'AverageLeadTime', 'LodgingRevenue',\n",
       "       'OtherRevenue', 'BookingsCanceled', 'BookingsNoShowed',\n",
       "       'BookingsCheckedIn', 'PersonsNights', 'RoomNights', 'DaysSinceLastStay',\n",
       "       'DaysSinceFirstStay', 'SRHighFloor', 'SRLowFloor', 'SRAccessibleRoom',\n",
       "       'SRMediumFloor', 'SRBathtub', 'SRShower', 'SRCrib', 'SRKingSizeBed',\n",
       "       'SRTwinBed', 'SRNearElevator', 'SRAwayFromElevator',\n",
       "       'SRNoAlcoholInMiniBar', 'SRQuietRoom'],\n",
       "      dtype='object')"
      ]
     },
     "execution_count": 19,
     "metadata": {},
     "output_type": "execute_result"
    }
   ],
   "source": [
    "d_num=d1.select_dtypes(include=np.number)\n",
    "d_num.columns"
   ]
  },
  {
   "cell_type": "code",
   "execution_count": 20,
   "metadata": {},
   "outputs": [],
   "source": [
    "#PERCENTAGE RATE"
   ]
  },
  {
   "cell_type": "code",
   "execution_count": 21,
   "metadata": {
    "scrolled": true
   },
   "outputs": [],
   "source": [
    "BookingsCanceled=d1['BookingsCanceled'].sum()\n",
    "BookingsNoShowed=d1['BookingsNoShowed'].sum()\n",
    "BookingsCheckedIn=d1['BookingsCheckedIn'].sum()\n"
   ]
  },
  {
   "cell_type": "code",
   "execution_count": 22,
   "metadata": {},
   "outputs": [],
   "source": [
    "Total_Bookings=d1[['BookingsCanceled','BookingsNoShowed','BookingsCheckedIn']].sum(axis=1)"
   ]
  },
  {
   "cell_type": "code",
   "execution_count": 23,
   "metadata": {},
   "outputs": [],
   "source": [
    " tb=Total_Bookings.sum()"
   ]
  },
  {
   "cell_type": "code",
   "execution_count": 24,
   "metadata": {},
   "outputs": [
    {
     "name": "stdout",
     "output_type": "stream",
     "text": [
      "167 53 66422\n"
     ]
    }
   ],
   "source": [
    "print(BookingsCanceled,BookingsNoShowed,BookingsCheckedIn)"
   ]
  },
  {
   "cell_type": "code",
   "execution_count": 25,
   "metadata": {},
   "outputs": [],
   "source": [
    "y=[BookingsCanceled,BookingsNoShowed,BookingsCheckedIn]\n",
    "x=['BookingsCanceled','BookingsNoShowed','BookingsCheckedIn']\n",
    "per=[round(BookingsCanceled/tb,4)*100,round(BookingsNoShowed/tb,4)*100,round(BookingsCheckedIn/tb,4)*100]"
   ]
  },
  {
   "cell_type": "code",
   "execution_count": 26,
   "metadata": {},
   "outputs": [
    {
     "data": {
      "image/png": "[encoded data removed]",
      "text/plain": [
       "<Figure size 576x576 with 1 Axes>"
      ]
     },
     "metadata": {},
     "output_type": "display_data"
    }
   ],
   "source": [
    "plt.figure(figsize=(8,8))\n",
    "colors_list = ['Red','Orange', 'Blue', 'Purple']\n",
    "graph = plt.bar(x,y, color = colors_list)\n",
    "plt.title('Percentage Rate')\n",
    "  \n",
    "i = 0\n",
    "for p in graph:\n",
    "    width = p.get_width()\n",
    "    height = p.get_height()\n",
    "    x, y = p.get_xy()\n",
    "    plt.text(x+width/2,\n",
    "             y+height*1.01,\n",
    "             str(per[i])+'%',\n",
    "             ha='center',\n",
    "             weight='bold')\n",
    "    i+=1\n",
    "plt.show()"
   ]
  },
  {
   "cell_type": "code",
   "execution_count": 27,
   "metadata": {},
   "outputs": [
    {
     "name": "stdout",
     "output_type": "stream",
     "text": [
      "confirmation rate   99.66987785480627\n"
     ]
    }
   ],
   "source": [
    "print('confirmation rate  ',(d1['BookingsCheckedIn'].sum()/Total_Bookings.sum())*100)"
   ]
  },
  {
   "cell_type": "code",
   "execution_count": 28,
   "metadata": {},
   "outputs": [],
   "source": [
    "#confirmation rate - high"
   ]
  },
  {
   "cell_type": "code",
   "execution_count": 29,
   "metadata": {},
   "outputs": [
    {
     "name": "stdout",
     "output_type": "stream",
     "text": [
      "Percentage rate for BookingsNoShowed 0.07952942588757841\n"
     ]
    }
   ],
   "source": [
    "print('Percentage rate for BookingsNoShowed',(d1['BookingsNoShowed'].sum()/Total_Bookings.sum())*100)"
   ]
  },
  {
   "cell_type": "code",
   "execution_count": 30,
   "metadata": {},
   "outputs": [],
   "source": [
    "# less than 1 %"
   ]
  },
  {
   "cell_type": "code",
   "execution_count": 31,
   "metadata": {},
   "outputs": [
    {
     "name": "stdout",
     "output_type": "stream",
     "text": [
      "Percentage rate for BookingsCanceled 0.25059271930614324\n"
     ]
    }
   ],
   "source": [
    "print('Percentage rate for BookingsCanceled',(d1['BookingsCanceled'].sum()/Total_Bookings.sum())*100)"
   ]
  },
  {
   "cell_type": "code",
   "execution_count": 32,
   "metadata": {},
   "outputs": [],
   "source": [
    "# less than 1 %"
   ]
  },
  {
   "cell_type": "code",
   "execution_count": 33,
   "metadata": {},
   "outputs": [
    {
     "data": {
      "text/plain": [
       "MarketSegment\n",
       "Corporate                0.147054\n",
       "Direct                   0.036013\n",
       "Aviation                 0.028511\n",
       "Complementary            0.028511\n",
       "Travel Agent/Operator    0.004502\n",
       "Groups                   0.003001\n",
       "Other                    0.003001\n",
       "Name: BookingsCanceled, dtype: float64"
      ]
     },
     "execution_count": 33,
     "metadata": {},
     "output_type": "execute_result"
    }
   ],
   "source": [
    "(((d1.groupby('MarketSegment')['BookingsCanceled'].sum())/Total_Bookings.sum())*100).sort_values(ascending=False)"
   ]
  },
  {
   "cell_type": "code",
   "execution_count": 34,
   "metadata": {},
   "outputs": [],
   "source": [
    "#Corporate customers canceled more than direct customers"
   ]
  },
  {
   "cell_type": "code",
   "execution_count": 35,
   "metadata": {},
   "outputs": [
    {
     "data": {
      "text/plain": [
       "MarketSegment\n",
       "Aviation                   359\n",
       "Complementary              580\n",
       "Corporate                 3123\n",
       "Direct                    8658\n",
       "Groups                    8018\n",
       "Other                    36233\n",
       "Travel Agent/Operator     9451\n",
       "Name: BookingsCheckedIn, dtype: int64"
      ]
     },
     "execution_count": 35,
     "metadata": {},
     "output_type": "execute_result"
    }
   ],
   "source": [
    "d1.groupby('MarketSegment')['BookingsCheckedIn'].sum()"
   ]
  },
  {
   "cell_type": "code",
   "execution_count": 36,
   "metadata": {},
   "outputs": [
    {
     "data": {
      "image/png": "[encoded data removed]",
      "text/plain": [
       "<Figure size 1080x648 with 5 Axes>"
      ]
     },
     "metadata": {},
     "output_type": "display_data"
    }
   ],
   "source": [
    "row  =2\n",
    "col =3\n",
    "count=1\n",
    "plt.figure(figsize=(15,9))\n",
    "for i in d1[['BookingsCanceled','BookingsNoShowed','BookingsCheckedIn','AverageLeadTime','LodgingRevenue']]:\n",
    "    plt.subplot(row,col,count)\n",
    "    (d1.groupby('MarketSegment')[i].sum()).plot.bar(stacked=True)\n",
    "    plt.title(i)\n",
    "    plt.xticks(rotation=45)\n",
    "    count=count+1\n",
    "plt.tight_layout()\n",
    "plt.show()"
   ]
  },
  {
   "cell_type": "code",
   "execution_count": null,
   "metadata": {},
   "outputs": [],
   "source": []
  },
  {
   "cell_type": "code",
   "execution_count": 37,
   "metadata": {},
   "outputs": [
    {
     "data": {
      "image/png": "[encoded data removed]",
      "text/plain": [
       "<Figure size 1080x2520 with 15 Axes>"
      ]
     },
     "metadata": {},
     "output_type": "display_data"
    }
   ],
   "source": [
    "row  =8\n",
    "col =3\n",
    "count=1\n",
    "plt.figure(figsize=(15,35))\n",
    "for i in ['SRHighFloor', 'SRLowFloor', 'SRAccessibleRoom','SRMediumFloor', 'SRBathtub', 'SRShower', 'SRCrib', 'SRKingSizeBed',\n",
    "       'SRTwinBed', 'SRNearElevator', 'SRAwayFromElevator', 'SRNoAlcoholInMiniBar','SRQuietRoom','MarketSegment','DistributionChannel']:\n",
    "    plt.subplot(row,col,count)\n",
    "    sns.countplot(d[i])\n",
    "    plt.title(i)\n",
    "    plt.xticks(rotation=45)\n",
    "    count=count+1\n",
    "plt.tight_layout()\n",
    "plt.show()"
   ]
  },
  {
   "cell_type": "code",
   "execution_count": 38,
   "metadata": {},
   "outputs": [
    {
     "data": {
      "text/plain": [
       "Index(['Aviation', 'Complementary', 'Corporate', 'Direct', 'Groups', 'Other',\n",
       "       'Travel Agent/Operator'],\n",
       "      dtype='object', name='MarketSegment')"
      ]
     },
     "execution_count": 38,
     "metadata": {},
     "output_type": "execute_result"
    }
   ],
   "source": [
    "l=d.groupby('MarketSegment')['LodgingRevenue'].sum().index\n",
    "l"
   ]
  },
  {
   "cell_type": "code",
   "execution_count": 39,
   "metadata": {},
   "outputs": [
    {
     "data": {
      "text/plain": [
       "<Figure size 1080x720 with 0 Axes>"
      ]
     },
     "metadata": {},
     "output_type": "display_data"
    },
    {
     "data": {
      "image/png": "[encoded data removed]",
      "text/plain": [
       "<Figure size 576x396 with 1 Axes>"
      ]
     },
     "metadata": {},
     "output_type": "display_data"
    }
   ],
   "source": [
    "plt.figure(figsize=(15,10))\n",
    "fig,ax=plt.subplots()\n",
    "ax=sns.barplot(x=(d.groupby('MarketSegment')['LodgingRevenue'].sum()).index,\n",
    "            y=(d.groupby('MarketSegment')['LodgingRevenue'].sum()).values)\n",
    "for p in ax.patches:\n",
    "    total=round(p.get_height()/d['LodgingRevenue'].sum()*100,2)\n",
    "    x=p.get_x()+0.5\n",
    "    y=p.get_height()+200000\n",
    "    ax.annotate(str(total)+' %',(x,y),fontsize=12,ha='center',rotation=0)\n",
    "plt.show()"
   ]
  },
  {
   "cell_type": "code",
   "execution_count": 40,
   "metadata": {},
   "outputs": [],
   "source": [
    "import datetime\n",
    "from datetime import timedelta"
   ]
  },
  {
   "cell_type": "code",
   "execution_count": 41,
   "metadata": {},
   "outputs": [],
   "source": [
    "from dateutil import parser\n",
    "def month(x):\n",
    "    y=(parser.parse(\"Dec 31 2018\")-timedelta(days=x)).month\n",
    "    return y"
   ]
  },
  {
   "cell_type": "code",
   "execution_count": 42,
   "metadata": {},
   "outputs": [],
   "source": [
    "from dateutil import parser\n",
    "def date(x):\n",
    "    y=(parser.parse(\"Dec 31 2018\")-timedelta(days=x)).strftime(\"%A\")\n",
    "    return y"
   ]
  },
  {
   "cell_type": "code",
   "execution_count": 43,
   "metadata": {},
   "outputs": [
    {
     "data": {
      "text/plain": [
       "'Friday'"
      ]
     },
     "execution_count": 43,
     "metadata": {},
     "output_type": "execute_result"
    }
   ],
   "source": [
    "date(10)"
   ]
  },
  {
   "cell_type": "code",
   "execution_count": 44,
   "metadata": {},
   "outputs": [],
   "source": [
    "count=(d['DaysSinceLastStay'].apply(month)).value_counts()\n"
   ]
  },
  {
   "cell_type": "code",
   "execution_count": 45,
   "metadata": {},
   "outputs": [
    {
     "data": {
      "text/plain": [
       "Text(0, 0.5, 'count of customers')"
      ]
     },
     "execution_count": 45,
     "metadata": {},
     "output_type": "execute_result"
    },
    {
     "data": {
      "image/png": "[encoded data removed]",
      "text/plain": [
       "<Figure size 576x396 with 1 Axes>"
      ]
     },
     "metadata": {},
     "output_type": "display_data"
    }
   ],
   "source": [
    "sns.lineplot(count.index,count.values)\n",
    "plt.xlabel('Month')\n",
    "plt.ylabel('count of customers')"
   ]
  },
  {
   "cell_type": "code",
   "execution_count": 46,
   "metadata": {},
   "outputs": [],
   "source": [
    "# Most of the customers visited in April to October month. Maximum in September and October"
   ]
  },
  {
   "cell_type": "code",
   "execution_count": 47,
   "metadata": {},
   "outputs": [
    {
     "data": {
      "text/plain": [
       "<seaborn.axisgrid.FacetGrid at 0x290c12a3a90>"
      ]
     },
     "execution_count": 47,
     "metadata": {},
     "output_type": "execute_result"
    },
    {
     "data": {
      "image/png": "[encoded data removed]",
      "text/plain": [
       "<Figure size 360x360 with 1 Axes>"
      ]
     },
     "metadata": {},
     "output_type": "display_data"
    }
   ],
   "source": [
    "sns.relplot(data=d,x=d['DaysSinceLastStay'].apply(month), y='LodgingRevenue', kind=\"line\")"
   ]
  },
  {
   "cell_type": "code",
   "execution_count": 48,
   "metadata": {},
   "outputs": [],
   "source": [
    "#Highest revenue  -- August month"
   ]
  },
  {
   "cell_type": "code",
   "execution_count": 49,
   "metadata": {},
   "outputs": [
    {
     "data": {
      "text/plain": [
       "<AxesSubplot:xlabel='DaysSinceLastStay', ylabel='count'>"
      ]
     },
     "execution_count": 49,
     "metadata": {},
     "output_type": "execute_result"
    },
    {
     "data": {
      "image/png": "[encoded data removed]",
      "text/plain": [
       "<Figure size 1152x720 with 1 Axes>"
      ]
     },
     "metadata": {},
     "output_type": "display_data"
    }
   ],
   "source": [
    "plt_1=plt.figure(figsize=(16,10))\n",
    "sns.countplot(d['DaysSinceLastStay'].apply(month),hue=d['MarketSegment'],palette=\"tab10\")"
   ]
  },
  {
   "cell_type": "code",
   "execution_count": 50,
   "metadata": {},
   "outputs": [],
   "source": [
    "def year(x):\n",
    "    y=(parser.parse(\"Dec 31 2018\")-timedelta(days=x)).year\n",
    "    return y"
   ]
  },
  {
   "cell_type": "code",
   "execution_count": 51,
   "metadata": {},
   "outputs": [
    {
     "data": {
      "text/plain": [
       "<AxesSubplot:xlabel='DaysSinceLastStay', ylabel='count'>"
      ]
     },
     "execution_count": 51,
     "metadata": {},
     "output_type": "execute_result"
    },
    {
     "data": {
      "image/png": "[encoded data removed]",
      "text/plain": [
       "<Figure size 576x396 with 1 Axes>"
      ]
     },
     "metadata": {},
     "output_type": "display_data"
    }
   ],
   "source": [
    "sns.countplot(d['DaysSinceLastStay'].apply(year))"
   ]
  },
  {
   "cell_type": "code",
   "execution_count": 52,
   "metadata": {},
   "outputs": [],
   "source": [
    "d['month']=d['DaysSinceLastStay'].apply(month)\n",
    "d['year']=d['DaysSinceLastStay'].apply(year)\n",
    "d['Day']=d['DaysSinceLastStay'].apply(date)"
   ]
  },
  {
   "cell_type": "code",
   "execution_count": 53,
   "metadata": {},
   "outputs": [
    {
     "data": {
      "text/plain": [
       "<AxesSubplot:xlabel='month', ylabel='count'>"
      ]
     },
     "execution_count": 53,
     "metadata": {},
     "output_type": "execute_result"
    },
    {
     "data": {
      "image/png": "[encoded data removed]",
      "text/plain": [
       "<Figure size 576x396 with 1 Axes>"
      ]
     },
     "metadata": {},
     "output_type": "display_data"
    }
   ],
   "source": [
    "sns.countplot(d['month'],hue=d['year'],palette='Set1')"
   ]
  },
  {
   "cell_type": "code",
   "execution_count": 54,
   "metadata": {},
   "outputs": [
    {
     "name": "stdout",
     "output_type": "stream",
     "text": [
      "<class 'pandas.core.frame.DataFrame'>\n",
      "Int64Index: 63670 entries, 0 to 83588\n",
      "Data columns (total 33 columns):\n",
      " #   Column                Non-Null Count  Dtype  \n",
      "---  ------                --------------  -----  \n",
      " 0   ID                    63670 non-null  int64  \n",
      " 1   Nationality           63670 non-null  object \n",
      " 2   Age                   60740 non-null  float64\n",
      " 3   DaysSinceCreation     63670 non-null  int64  \n",
      " 4   DocIDHash             63670 non-null  object \n",
      " 5   AverageLeadTime       63670 non-null  int64  \n",
      " 6   LodgingRevenue        63670 non-null  float64\n",
      " 7   OtherRevenue          63670 non-null  float64\n",
      " 8   BookingsCanceled      63670 non-null  int64  \n",
      " 9   BookingsNoShowed      63670 non-null  int64  \n",
      " 10  BookingsCheckedIn     63670 non-null  int64  \n",
      " 11  PersonsNights         63670 non-null  int64  \n",
      " 12  RoomNights            63670 non-null  int64  \n",
      " 13  DaysSinceLastStay     63670 non-null  int64  \n",
      " 14  DaysSinceFirstStay    63670 non-null  int64  \n",
      " 15  DistributionChannel   63670 non-null  object \n",
      " 16  MarketSegment         63670 non-null  object \n",
      " 17  SRHighFloor           63670 non-null  int64  \n",
      " 18  SRLowFloor            63670 non-null  int64  \n",
      " 19  SRAccessibleRoom      63670 non-null  int64  \n",
      " 20  SRMediumFloor         63670 non-null  int64  \n",
      " 21  SRBathtub             63670 non-null  int64  \n",
      " 22  SRShower              63670 non-null  int64  \n",
      " 23  SRCrib                63670 non-null  int64  \n",
      " 24  SRKingSizeBed         63670 non-null  int64  \n",
      " 25  SRTwinBed             63670 non-null  int64  \n",
      " 26  SRNearElevator        63670 non-null  int64  \n",
      " 27  SRAwayFromElevator    63670 non-null  int64  \n",
      " 28  SRNoAlcoholInMiniBar  63670 non-null  int64  \n",
      " 29  SRQuietRoom           63670 non-null  int64  \n",
      " 30  month                 63670 non-null  int64  \n",
      " 31  year                  63670 non-null  int64  \n",
      " 32  Day                   63670 non-null  object \n",
      "dtypes: float64(3), int64(25), object(5)\n",
      "memory usage: 18.5+ MB\n"
     ]
    }
   ],
   "source": [
    "d.info()"
   ]
  },
  {
   "cell_type": "code",
   "execution_count": 55,
   "metadata": {},
   "outputs": [
    {
     "data": {
      "text/html": [
       "<div>\n",
       "<style scoped>\n",
       "    .dataframe tbody tr th:only-of-type {\n",
       "        vertical-align: middle;\n",
       "    }\n",
       "\n",
       "    .dataframe tbody tr th {\n",
       "        vertical-align: top;\n",
       "    }\n",
       "\n",
       "    .dataframe thead th {\n",
       "        text-align: right;\n",
       "    }\n",
       "</style>\n",
       "<table border=\"1\" class=\"dataframe\">\n",
       "  <thead>\n",
       "    <tr style=\"text-align: right;\">\n",
       "      <th></th>\n",
       "      <th>ID</th>\n",
       "      <th>Nationality</th>\n",
       "      <th>Age</th>\n",
       "      <th>DaysSinceCreation</th>\n",
       "      <th>DocIDHash</th>\n",
       "      <th>AverageLeadTime</th>\n",
       "      <th>LodgingRevenue</th>\n",
       "      <th>OtherRevenue</th>\n",
       "      <th>BookingsCanceled</th>\n",
       "      <th>BookingsNoShowed</th>\n",
       "      <th>...</th>\n",
       "      <th>SRCrib</th>\n",
       "      <th>SRKingSizeBed</th>\n",
       "      <th>SRTwinBed</th>\n",
       "      <th>SRNearElevator</th>\n",
       "      <th>SRAwayFromElevator</th>\n",
       "      <th>SRNoAlcoholInMiniBar</th>\n",
       "      <th>SRQuietRoom</th>\n",
       "      <th>month</th>\n",
       "      <th>year</th>\n",
       "      <th>Day</th>\n",
       "    </tr>\n",
       "  </thead>\n",
       "  <tbody>\n",
       "    <tr>\n",
       "      <th>0</th>\n",
       "      <td>1</td>\n",
       "      <td>PRT</td>\n",
       "      <td>51.0</td>\n",
       "      <td>150</td>\n",
       "      <td>0x71568459B729F7A7ABBED6C781A84CA4274D571003AC...</td>\n",
       "      <td>45</td>\n",
       "      <td>371.0</td>\n",
       "      <td>105.3</td>\n",
       "      <td>1</td>\n",
       "      <td>0</td>\n",
       "      <td>...</td>\n",
       "      <td>0</td>\n",
       "      <td>0</td>\n",
       "      <td>0</td>\n",
       "      <td>0</td>\n",
       "      <td>0</td>\n",
       "      <td>0</td>\n",
       "      <td>0</td>\n",
       "      <td>8</td>\n",
       "      <td>2018</td>\n",
       "      <td>Thursday</td>\n",
       "    </tr>\n",
       "    <tr>\n",
       "      <th>1</th>\n",
       "      <td>2</td>\n",
       "      <td>PRT</td>\n",
       "      <td>NaN</td>\n",
       "      <td>1095</td>\n",
       "      <td>0x5FA1E0098A31497057C5A6B9FE9D49FD6DD47CCE7C26...</td>\n",
       "      <td>61</td>\n",
       "      <td>280.0</td>\n",
       "      <td>53.0</td>\n",
       "      <td>0</td>\n",
       "      <td>0</td>\n",
       "      <td>...</td>\n",
       "      <td>0</td>\n",
       "      <td>0</td>\n",
       "      <td>0</td>\n",
       "      <td>0</td>\n",
       "      <td>0</td>\n",
       "      <td>0</td>\n",
       "      <td>0</td>\n",
       "      <td>12</td>\n",
       "      <td>2015</td>\n",
       "      <td>Sunday</td>\n",
       "    </tr>\n",
       "    <tr>\n",
       "      <th>3</th>\n",
       "      <td>4</td>\n",
       "      <td>FRA</td>\n",
       "      <td>60.0</td>\n",
       "      <td>1095</td>\n",
       "      <td>0xBD3823A9B4EC35D6CAF4B27AE423A677C0200DB61E82...</td>\n",
       "      <td>93</td>\n",
       "      <td>240.0</td>\n",
       "      <td>60.0</td>\n",
       "      <td>0</td>\n",
       "      <td>0</td>\n",
       "      <td>...</td>\n",
       "      <td>0</td>\n",
       "      <td>0</td>\n",
       "      <td>0</td>\n",
       "      <td>0</td>\n",
       "      <td>0</td>\n",
       "      <td>0</td>\n",
       "      <td>0</td>\n",
       "      <td>12</td>\n",
       "      <td>2015</td>\n",
       "      <td>Sunday</td>\n",
       "    </tr>\n",
       "    <tr>\n",
       "      <th>5</th>\n",
       "      <td>6</td>\n",
       "      <td>JPN</td>\n",
       "      <td>54.0</td>\n",
       "      <td>1095</td>\n",
       "      <td>0xE82EC1D6938A04CF19E1F7F55A402E7ABC686261537A...</td>\n",
       "      <td>58</td>\n",
       "      <td>230.0</td>\n",
       "      <td>24.0</td>\n",
       "      <td>0</td>\n",
       "      <td>0</td>\n",
       "      <td>...</td>\n",
       "      <td>0</td>\n",
       "      <td>0</td>\n",
       "      <td>0</td>\n",
       "      <td>0</td>\n",
       "      <td>0</td>\n",
       "      <td>0</td>\n",
       "      <td>0</td>\n",
       "      <td>12</td>\n",
       "      <td>2015</td>\n",
       "      <td>Wednesday</td>\n",
       "    </tr>\n",
       "    <tr>\n",
       "      <th>7</th>\n",
       "      <td>8</td>\n",
       "      <td>FRA</td>\n",
       "      <td>32.0</td>\n",
       "      <td>1095</td>\n",
       "      <td>0xB27F5644C88A7148360EFFF55D8F40565BAC3084B4C4...</td>\n",
       "      <td>38</td>\n",
       "      <td>535.0</td>\n",
       "      <td>94.0</td>\n",
       "      <td>0</td>\n",
       "      <td>0</td>\n",
       "      <td>...</td>\n",
       "      <td>0</td>\n",
       "      <td>1</td>\n",
       "      <td>0</td>\n",
       "      <td>0</td>\n",
       "      <td>0</td>\n",
       "      <td>0</td>\n",
       "      <td>0</td>\n",
       "      <td>12</td>\n",
       "      <td>2015</td>\n",
       "      <td>Sunday</td>\n",
       "    </tr>\n",
       "    <tr>\n",
       "      <th>...</th>\n",
       "      <td>...</td>\n",
       "      <td>...</td>\n",
       "      <td>...</td>\n",
       "      <td>...</td>\n",
       "      <td>...</td>\n",
       "      <td>...</td>\n",
       "      <td>...</td>\n",
       "      <td>...</td>\n",
       "      <td>...</td>\n",
       "      <td>...</td>\n",
       "      <td>...</td>\n",
       "      <td>...</td>\n",
       "      <td>...</td>\n",
       "      <td>...</td>\n",
       "      <td>...</td>\n",
       "      <td>...</td>\n",
       "      <td>...</td>\n",
       "      <td>...</td>\n",
       "      <td>...</td>\n",
       "      <td>...</td>\n",
       "      <td>...</td>\n",
       "    </tr>\n",
       "    <tr>\n",
       "      <th>83580</th>\n",
       "      <td>83581</td>\n",
       "      <td>DEU</td>\n",
       "      <td>48.0</td>\n",
       "      <td>0</td>\n",
       "      <td>0x9A75BA8B885B4CCF562FEC991F4B34DDECE67D43DD04...</td>\n",
       "      <td>20</td>\n",
       "      <td>176.0</td>\n",
       "      <td>147.0</td>\n",
       "      <td>0</td>\n",
       "      <td>0</td>\n",
       "      <td>...</td>\n",
       "      <td>0</td>\n",
       "      <td>0</td>\n",
       "      <td>0</td>\n",
       "      <td>0</td>\n",
       "      <td>0</td>\n",
       "      <td>0</td>\n",
       "      <td>0</td>\n",
       "      <td>12</td>\n",
       "      <td>2018</td>\n",
       "      <td>Saturday</td>\n",
       "    </tr>\n",
       "    <tr>\n",
       "      <th>83582</th>\n",
       "      <td>83583</td>\n",
       "      <td>FRA</td>\n",
       "      <td>49.0</td>\n",
       "      <td>0</td>\n",
       "      <td>0x5672F95F21E93CDF0387BC40900503CA91352EA17B84...</td>\n",
       "      <td>91</td>\n",
       "      <td>143.0</td>\n",
       "      <td>2.0</td>\n",
       "      <td>0</td>\n",
       "      <td>0</td>\n",
       "      <td>...</td>\n",
       "      <td>0</td>\n",
       "      <td>1</td>\n",
       "      <td>0</td>\n",
       "      <td>0</td>\n",
       "      <td>0</td>\n",
       "      <td>0</td>\n",
       "      <td>0</td>\n",
       "      <td>12</td>\n",
       "      <td>2018</td>\n",
       "      <td>Sunday</td>\n",
       "    </tr>\n",
       "    <tr>\n",
       "      <th>83584</th>\n",
       "      <td>83585</td>\n",
       "      <td>ITA</td>\n",
       "      <td>52.0</td>\n",
       "      <td>0</td>\n",
       "      <td>0x7AE14552CC1ABDB74EED8F709E9ECDDA822F164C704F...</td>\n",
       "      <td>116</td>\n",
       "      <td>336.9</td>\n",
       "      <td>105.5</td>\n",
       "      <td>0</td>\n",
       "      <td>0</td>\n",
       "      <td>...</td>\n",
       "      <td>0</td>\n",
       "      <td>0</td>\n",
       "      <td>0</td>\n",
       "      <td>0</td>\n",
       "      <td>0</td>\n",
       "      <td>0</td>\n",
       "      <td>0</td>\n",
       "      <td>12</td>\n",
       "      <td>2018</td>\n",
       "      <td>Thursday</td>\n",
       "    </tr>\n",
       "    <tr>\n",
       "      <th>83586</th>\n",
       "      <td>83587</td>\n",
       "      <td>IRL</td>\n",
       "      <td>47.0</td>\n",
       "      <td>0</td>\n",
       "      <td>0xC0654B6A53840DD95DAE429966EC16E2A11FB186CC7B...</td>\n",
       "      <td>109</td>\n",
       "      <td>327.1</td>\n",
       "      <td>277.5</td>\n",
       "      <td>0</td>\n",
       "      <td>0</td>\n",
       "      <td>...</td>\n",
       "      <td>0</td>\n",
       "      <td>1</td>\n",
       "      <td>0</td>\n",
       "      <td>0</td>\n",
       "      <td>0</td>\n",
       "      <td>0</td>\n",
       "      <td>0</td>\n",
       "      <td>12</td>\n",
       "      <td>2018</td>\n",
       "      <td>Friday</td>\n",
       "    </tr>\n",
       "    <tr>\n",
       "      <th>83588</th>\n",
       "      <td>83589</td>\n",
       "      <td>IRL</td>\n",
       "      <td>85.0</td>\n",
       "      <td>0</td>\n",
       "      <td>0xEB64E8E6820F421508B96820AA3BA49404C01D178FE3...</td>\n",
       "      <td>109</td>\n",
       "      <td>981.3</td>\n",
       "      <td>9.0</td>\n",
       "      <td>0</td>\n",
       "      <td>0</td>\n",
       "      <td>...</td>\n",
       "      <td>0</td>\n",
       "      <td>0</td>\n",
       "      <td>1</td>\n",
       "      <td>0</td>\n",
       "      <td>0</td>\n",
       "      <td>0</td>\n",
       "      <td>0</td>\n",
       "      <td>12</td>\n",
       "      <td>2018</td>\n",
       "      <td>Friday</td>\n",
       "    </tr>\n",
       "  </tbody>\n",
       "</table>\n",
       "<p>63670 rows × 33 columns</p>\n",
       "</div>"
      ],
      "text/plain": [
       "          ID Nationality   Age  DaysSinceCreation  \\\n",
       "0          1         PRT  51.0                150   \n",
       "1          2         PRT   NaN               1095   \n",
       "3          4         FRA  60.0               1095   \n",
       "5          6         JPN  54.0               1095   \n",
       "7          8         FRA  32.0               1095   \n",
       "...      ...         ...   ...                ...   \n",
       "83580  83581         DEU  48.0                  0   \n",
       "83582  83583         FRA  49.0                  0   \n",
       "83584  83585         ITA  52.0                  0   \n",
       "83586  83587         IRL  47.0                  0   \n",
       "83588  83589         IRL  85.0                  0   \n",
       "\n",
       "                                               DocIDHash  AverageLeadTime  \\\n",
       "0      0x71568459B729F7A7ABBED6C781A84CA4274D571003AC...               45   \n",
       "1      0x5FA1E0098A31497057C5A6B9FE9D49FD6DD47CCE7C26...               61   \n",
       "3      0xBD3823A9B4EC35D6CAF4B27AE423A677C0200DB61E82...               93   \n",
       "5      0xE82EC1D6938A04CF19E1F7F55A402E7ABC686261537A...               58   \n",
       "7      0xB27F5644C88A7148360EFFF55D8F40565BAC3084B4C4...               38   \n",
       "...                                                  ...              ...   \n",
       "83580  0x9A75BA8B885B4CCF562FEC991F4B34DDECE67D43DD04...               20   \n",
       "83582  0x5672F95F21E93CDF0387BC40900503CA91352EA17B84...               91   \n",
       "83584  0x7AE14552CC1ABDB74EED8F709E9ECDDA822F164C704F...              116   \n",
       "83586  0xC0654B6A53840DD95DAE429966EC16E2A11FB186CC7B...              109   \n",
       "83588  0xEB64E8E6820F421508B96820AA3BA49404C01D178FE3...              109   \n",
       "\n",
       "       LodgingRevenue  OtherRevenue  BookingsCanceled  BookingsNoShowed  ...  \\\n",
       "0               371.0         105.3                 1                 0  ...   \n",
       "1               280.0          53.0                 0                 0  ...   \n",
       "3               240.0          60.0                 0                 0  ...   \n",
       "5               230.0          24.0                 0                 0  ...   \n",
       "7               535.0          94.0                 0                 0  ...   \n",
       "...               ...           ...               ...               ...  ...   \n",
       "83580           176.0         147.0                 0                 0  ...   \n",
       "83582           143.0           2.0                 0                 0  ...   \n",
       "83584           336.9         105.5                 0                 0  ...   \n",
       "83586           327.1         277.5                 0                 0  ...   \n",
       "83588           981.3           9.0                 0                 0  ...   \n",
       "\n",
       "       SRCrib  SRKingSizeBed  SRTwinBed  SRNearElevator  SRAwayFromElevator  \\\n",
       "0           0              0          0               0                   0   \n",
       "1           0              0          0               0                   0   \n",
       "3           0              0          0               0                   0   \n",
       "5           0              0          0               0                   0   \n",
       "7           0              1          0               0                   0   \n",
       "...       ...            ...        ...             ...                 ...   \n",
       "83580       0              0          0               0                   0   \n",
       "83582       0              1          0               0                   0   \n",
       "83584       0              0          0               0                   0   \n",
       "83586       0              1          0               0                   0   \n",
       "83588       0              0          1               0                   0   \n",
       "\n",
       "      SRNoAlcoholInMiniBar SRQuietRoom  month  year        Day  \n",
       "0                        0           0      8  2018   Thursday  \n",
       "1                        0           0     12  2015     Sunday  \n",
       "3                        0           0     12  2015     Sunday  \n",
       "5                        0           0     12  2015  Wednesday  \n",
       "7                        0           0     12  2015     Sunday  \n",
       "...                    ...         ...    ...   ...        ...  \n",
       "83580                    0           0     12  2018   Saturday  \n",
       "83582                    0           0     12  2018     Sunday  \n",
       "83584                    0           0     12  2018   Thursday  \n",
       "83586                    0           0     12  2018     Friday  \n",
       "83588                    0           0     12  2018     Friday  \n",
       "\n",
       "[63670 rows x 33 columns]"
      ]
     },
     "execution_count": 55,
     "metadata": {},
     "output_type": "execute_result"
    }
   ],
   "source": [
    "d"
   ]
  },
  {
   "cell_type": "code",
   "execution_count": 56,
   "metadata": {},
   "outputs": [
    {
     "data": {
      "text/plain": [
       "Text(0.5, 1.0, 'Percentage of Arrival')"
      ]
     },
     "execution_count": 56,
     "metadata": {},
     "output_type": "execute_result"
    },
    {
     "data": {
      "image/png": "[encoded data removed]",
      "text/plain": [
       "<Figure size 576x396 with 1 Axes>"
      ]
     },
     "metadata": {},
     "output_type": "display_data"
    }
   ],
   "source": [
    "fig,ax=plt.subplots()\n",
    "ax=sns.countplot(d['Day'],order=['Sunday','Monday','Tuesday','Wednesday','Thursday','Friday','Saturday'])\n",
    "for p in ax.patches:\n",
    "    percentage=str(round((p.get_height()/d['Day'].count())*100,2))+' %'\n",
    "    x=p.get_x()+0.5\n",
    "    y=p.get_height()+120\n",
    "    ax.annotate(percentage,(x,y),fontsize=12,ha='center')\n",
    "ax.set_title('Percentage of Arrival',fontsize=14)"
   ]
  },
  {
   "cell_type": "code",
   "execution_count": 57,
   "metadata": {},
   "outputs": [
    {
     "data": {
      "text/plain": [
       "ID                      0.000000\n",
       "Nationality             0.000000\n",
       "Age                     4.601853\n",
       "DaysSinceCreation       0.000000\n",
       "DocIDHash               0.000000\n",
       "AverageLeadTime         0.000000\n",
       "LodgingRevenue          0.000000\n",
       "OtherRevenue            0.000000\n",
       "BookingsCanceled        0.000000\n",
       "BookingsNoShowed        0.000000\n",
       "BookingsCheckedIn       0.000000\n",
       "PersonsNights           0.000000\n",
       "RoomNights              0.000000\n",
       "DaysSinceLastStay       0.000000\n",
       "DaysSinceFirstStay      0.000000\n",
       "DistributionChannel     0.000000\n",
       "MarketSegment           0.000000\n",
       "SRHighFloor             0.000000\n",
       "SRLowFloor              0.000000\n",
       "SRAccessibleRoom        0.000000\n",
       "SRMediumFloor           0.000000\n",
       "SRBathtub               0.000000\n",
       "SRShower                0.000000\n",
       "SRCrib                  0.000000\n",
       "SRKingSizeBed           0.000000\n",
       "SRTwinBed               0.000000\n",
       "SRNearElevator          0.000000\n",
       "SRAwayFromElevator      0.000000\n",
       "SRNoAlcoholInMiniBar    0.000000\n",
       "SRQuietRoom             0.000000\n",
       "month                   0.000000\n",
       "year                    0.000000\n",
       "Day                     0.000000\n",
       "dtype: float64"
      ]
     },
     "execution_count": 57,
     "metadata": {},
     "output_type": "execute_result"
    }
   ],
   "source": [
    "#Missing value treatment:\n",
    "d1.isnull().sum()/len(d1)*100"
   ]
  },
  {
   "cell_type": "code",
   "execution_count": 58,
   "metadata": {},
   "outputs": [],
   "source": [
    "d1['Age'].fillna(d1['Age'].mode()[0],inplace=True)"
   ]
  },
  {
   "cell_type": "code",
   "execution_count": 59,
   "metadata": {},
   "outputs": [
    {
     "data": {
      "text/plain": [
       "0"
      ]
     },
     "execution_count": 59,
     "metadata": {},
     "output_type": "execute_result"
    }
   ],
   "source": [
    "d1['Age'].isnull().sum()"
   ]
  },
  {
   "cell_type": "code",
   "execution_count": 60,
   "metadata": {},
   "outputs": [],
   "source": [
    "d_num=d[['Age', 'DaysSinceCreation', 'AverageLeadTime',\n",
    "       'LodgingRevenue', 'OtherRevenue', 'BookingsCanceled',\n",
    "       'BookingsNoShowed', 'BookingsCheckedIn', 'PersonsNights', 'RoomNights',\n",
    "       'DaysSinceLastStay', 'DaysSinceFirstStay']]"
   ]
  },
  {
   "cell_type": "code",
   "execution_count": 61,
   "metadata": {
    "scrolled": false
   },
   "outputs": [
    {
     "data": {
      "text/plain": [
       "MarketSegment\n",
       "Aviation                  4.0\n",
       "Complementary             5.0\n",
       "Corporate                11.0\n",
       "Direct                   33.0\n",
       "Groups                   86.0\n",
       "Other                    57.0\n",
       "Travel Agent/Operator    91.0\n",
       "Name: AverageLeadTime, dtype: float64"
      ]
     },
     "execution_count": 61,
     "metadata": {},
     "output_type": "execute_result"
    }
   ],
   "source": [
    "d1.groupby('MarketSegment')['AverageLeadTime'].median()"
   ]
  },
  {
   "cell_type": "code",
   "execution_count": 62,
   "metadata": {},
   "outputs": [],
   "source": [
    "# travel Agent has high average lead time -  with median 91\n",
    "#lower value - Aviation"
   ]
  },
  {
   "cell_type": "code",
   "execution_count": 63,
   "metadata": {},
   "outputs": [
    {
     "data": {
      "text/plain": [
       "DistributionChannel\n",
       "Corporate                  11.0\n",
       "Direct                     30.0\n",
       "Electronic Distribution    13.0\n",
       "Travel Agent/Operator      66.0\n",
       "Name: AverageLeadTime, dtype: float64"
      ]
     },
     "execution_count": 63,
     "metadata": {},
     "output_type": "execute_result"
    }
   ],
   "source": [
    "d1.groupby('DistributionChannel')['AverageLeadTime'].median()"
   ]
  },
  {
   "cell_type": "code",
   "execution_count": 64,
   "metadata": {},
   "outputs": [],
   "source": [
    "# travel Agent has high average lead time -  with median 66\n",
    "# lower value - Corporate - 11"
   ]
  },
  {
   "cell_type": "code",
   "execution_count": null,
   "metadata": {},
   "outputs": [],
   "source": []
  },
  {
   "cell_type": "code",
   "execution_count": 65,
   "metadata": {},
   "outputs": [],
   "source": [
    "# Pie chart\n",
    "labels = list(d1['MarketSegment'].unique())\n",
    "sizes = list((d1['MarketSegment'].value_counts(normalize=True)*100).values.round(2))\n"
   ]
  },
  {
   "cell_type": "code",
   "execution_count": 66,
   "metadata": {
    "scrolled": true
   },
   "outputs": [
    {
     "name": "stdout",
     "output_type": "stream",
     "text": [
      "['Corporate', 'Travel Agent/Operator', 'Other', 'Direct', 'Complementary', 'Groups', 'Aviation']\n",
      "[56.1, 14.58, 12.85, 12.35, 3.11, 0.63, 0.38]\n"
     ]
    }
   ],
   "source": [
    "print(labels)\n",
    "print(sizes)"
   ]
  },
  {
   "cell_type": "code",
   "execution_count": 67,
   "metadata": {},
   "outputs": [
    {
     "data": {
      "text/plain": [
       "<Figure size 720x720 with 0 Axes>"
      ]
     },
     "metadata": {},
     "output_type": "display_data"
    },
    {
     "data": {
      "image/png": "[encoded data removed]",
      "text/plain": [
       "<Figure size 576x396 with 1 Axes>"
      ]
     },
     "metadata": {},
     "output_type": "display_data"
    }
   ],
   "source": [
    "plt_1=plt.figure(figsize=(10,10))\n",
    "explode = (0.05, 0.05,0.05,0.05, 0.05, 0.05,0.05)  \n",
    "fig1, ax1 = plt.subplots()\n",
    "ax1.pie(sizes, explode=explode, labels=labels, autopct='%1.1f%%',\n",
    "        shadow=True, startangle=90, pctdistance=0.85)\n",
    "ax1.axis('equal')  \n",
    "plt.tight_layout()\n",
    "plt.title('Percentage rate of MarketSegment',fontsize=14)\n",
    "plt.legend()\n",
    "plt.show()\n"
   ]
  },
  {
   "cell_type": "code",
   "execution_count": 68,
   "metadata": {},
   "outputs": [],
   "source": [
    "# Pie chart\n",
    "labels = list(d1['DistributionChannel'].unique())\n",
    "sizes = list((d1['DistributionChannel'].value_counts(normalize=True)*100).values.round(2))\n",
    "\n"
   ]
  },
  {
   "cell_type": "code",
   "execution_count": 69,
   "metadata": {
    "scrolled": true
   },
   "outputs": [
    {
     "name": "stdout",
     "output_type": "stream",
     "text": [
      "['Corporate', 'Travel Agent/Operator', 'Direct', 'Electronic Distribution']\n",
      "[82.07, 13.44, 3.72, 0.77]\n"
     ]
    }
   ],
   "source": [
    "print(labels)\n",
    "print(sizes)"
   ]
  },
  {
   "cell_type": "code",
   "execution_count": 70,
   "metadata": {},
   "outputs": [
    {
     "data": {
      "text/plain": [
       "<Figure size 720x720 with 0 Axes>"
      ]
     },
     "metadata": {},
     "output_type": "display_data"
    },
    {
     "data": {
      "image/png": "[encoded data removed]",
      "text/plain": [
       "<Figure size 576x396 with 1 Axes>"
      ]
     },
     "metadata": {},
     "output_type": "display_data"
    }
   ],
   "source": [
    "plt_1=plt.figure(figsize=(10,10))\n",
    "explode = (0.1, 0,0,0)  \n",
    "fig1, ax1 = plt.subplots()\n",
    "ax1.pie(sizes, explode=explode,labels=labels, autopct='%1.1f%%',\n",
    "        shadow=True, startangle=90, pctdistance=0.85)\n",
    "ax1.axis('equal') \n",
    "ax1.set_title('Percentage rate of Distribution Channel',loc='left')\n",
    "plt.tight_layout()\n",
    "#plt.subplots_adjust(bottom=0,top=0.9,right=1)\n",
    "ax1.legend(loc='center left',title='Distribution Channel')\n",
    "plt.show()\n"
   ]
  },
  {
   "cell_type": "code",
   "execution_count": 71,
   "metadata": {},
   "outputs": [
    {
     "data": {
      "text/plain": [
       "<AxesSubplot:title={'center':'Feature-correlation (pearson)'}>"
      ]
     },
     "execution_count": 71,
     "metadata": {},
     "output_type": "execute_result"
    },
    {
     "data": {
      "image/png": "[encoded data removed]",
      "text/plain": [
       "<Figure size 864x720 with 2 Axes>"
      ]
     },
     "metadata": {},
     "output_type": "display_data"
    }
   ],
   "source": [
    "#outliers\n",
    "klib.corr_plot(d1[['Age', 'DaysSinceCreation','OtherRevenue', 'BookingsCanceled', 'BookingsNoShowed',\n",
    "       'BookingsCheckedIn', 'PersonsNights', 'RoomNights', 'DaysSinceLastStay', 'DaysSinceFirstStay']],threshold=0.4) # Displaying  correlation"
   ]
  },
  {
   "cell_type": "code",
   "execution_count": 72,
   "metadata": {},
   "outputs": [],
   "source": [
    "import numpy as np"
   ]
  },
  {
   "cell_type": "code",
   "execution_count": 73,
   "metadata": {},
   "outputs": [],
   "source": [
    "num_data=d1.select_dtypes(include=np.number)"
   ]
  },
  {
   "cell_type": "code",
   "execution_count": 74,
   "metadata": {},
   "outputs": [
    {
     "data": {
      "text/html": [
       "<div>\n",
       "<style scoped>\n",
       "    .dataframe tbody tr th:only-of-type {\n",
       "        vertical-align: middle;\n",
       "    }\n",
       "\n",
       "    .dataframe tbody tr th {\n",
       "        vertical-align: top;\n",
       "    }\n",
       "\n",
       "    .dataframe thead th {\n",
       "        text-align: right;\n",
       "    }\n",
       "</style>\n",
       "<table border=\"1\" class=\"dataframe\">\n",
       "  <thead>\n",
       "    <tr style=\"text-align: right;\">\n",
       "      <th></th>\n",
       "      <th>ID</th>\n",
       "      <th>Age</th>\n",
       "      <th>DaysSinceCreation</th>\n",
       "      <th>AverageLeadTime</th>\n",
       "      <th>LodgingRevenue</th>\n",
       "      <th>OtherRevenue</th>\n",
       "      <th>BookingsCanceled</th>\n",
       "      <th>BookingsNoShowed</th>\n",
       "      <th>BookingsCheckedIn</th>\n",
       "      <th>PersonsNights</th>\n",
       "      <th>...</th>\n",
       "      <th>SRShower</th>\n",
       "      <th>SRCrib</th>\n",
       "      <th>SRKingSizeBed</th>\n",
       "      <th>SRTwinBed</th>\n",
       "      <th>SRNearElevator</th>\n",
       "      <th>SRAwayFromElevator</th>\n",
       "      <th>SRNoAlcoholInMiniBar</th>\n",
       "      <th>SRQuietRoom</th>\n",
       "      <th>month</th>\n",
       "      <th>year</th>\n",
       "    </tr>\n",
       "  </thead>\n",
       "  <tbody>\n",
       "    <tr>\n",
       "      <th>0</th>\n",
       "      <td>1</td>\n",
       "      <td>51.0</td>\n",
       "      <td>150</td>\n",
       "      <td>45</td>\n",
       "      <td>371.0</td>\n",
       "      <td>105.3</td>\n",
       "      <td>1</td>\n",
       "      <td>0</td>\n",
       "      <td>3</td>\n",
       "      <td>8</td>\n",
       "      <td>...</td>\n",
       "      <td>0</td>\n",
       "      <td>0</td>\n",
       "      <td>0</td>\n",
       "      <td>0</td>\n",
       "      <td>0</td>\n",
       "      <td>0</td>\n",
       "      <td>0</td>\n",
       "      <td>0</td>\n",
       "      <td>8</td>\n",
       "      <td>2018</td>\n",
       "    </tr>\n",
       "    <tr>\n",
       "      <th>1</th>\n",
       "      <td>2</td>\n",
       "      <td>51.0</td>\n",
       "      <td>1095</td>\n",
       "      <td>61</td>\n",
       "      <td>280.0</td>\n",
       "      <td>53.0</td>\n",
       "      <td>0</td>\n",
       "      <td>0</td>\n",
       "      <td>1</td>\n",
       "      <td>10</td>\n",
       "      <td>...</td>\n",
       "      <td>0</td>\n",
       "      <td>0</td>\n",
       "      <td>0</td>\n",
       "      <td>0</td>\n",
       "      <td>0</td>\n",
       "      <td>0</td>\n",
       "      <td>0</td>\n",
       "      <td>0</td>\n",
       "      <td>12</td>\n",
       "      <td>2015</td>\n",
       "    </tr>\n",
       "    <tr>\n",
       "      <th>3</th>\n",
       "      <td>4</td>\n",
       "      <td>60.0</td>\n",
       "      <td>1095</td>\n",
       "      <td>93</td>\n",
       "      <td>240.0</td>\n",
       "      <td>60.0</td>\n",
       "      <td>0</td>\n",
       "      <td>0</td>\n",
       "      <td>1</td>\n",
       "      <td>10</td>\n",
       "      <td>...</td>\n",
       "      <td>0</td>\n",
       "      <td>0</td>\n",
       "      <td>0</td>\n",
       "      <td>0</td>\n",
       "      <td>0</td>\n",
       "      <td>0</td>\n",
       "      <td>0</td>\n",
       "      <td>0</td>\n",
       "      <td>12</td>\n",
       "      <td>2015</td>\n",
       "    </tr>\n",
       "    <tr>\n",
       "      <th>5</th>\n",
       "      <td>6</td>\n",
       "      <td>54.0</td>\n",
       "      <td>1095</td>\n",
       "      <td>58</td>\n",
       "      <td>230.0</td>\n",
       "      <td>24.0</td>\n",
       "      <td>0</td>\n",
       "      <td>0</td>\n",
       "      <td>1</td>\n",
       "      <td>4</td>\n",
       "      <td>...</td>\n",
       "      <td>0</td>\n",
       "      <td>0</td>\n",
       "      <td>0</td>\n",
       "      <td>0</td>\n",
       "      <td>0</td>\n",
       "      <td>0</td>\n",
       "      <td>0</td>\n",
       "      <td>0</td>\n",
       "      <td>12</td>\n",
       "      <td>2015</td>\n",
       "    </tr>\n",
       "    <tr>\n",
       "      <th>7</th>\n",
       "      <td>8</td>\n",
       "      <td>32.0</td>\n",
       "      <td>1095</td>\n",
       "      <td>38</td>\n",
       "      <td>535.0</td>\n",
       "      <td>94.0</td>\n",
       "      <td>0</td>\n",
       "      <td>0</td>\n",
       "      <td>1</td>\n",
       "      <td>10</td>\n",
       "      <td>...</td>\n",
       "      <td>0</td>\n",
       "      <td>0</td>\n",
       "      <td>1</td>\n",
       "      <td>0</td>\n",
       "      <td>0</td>\n",
       "      <td>0</td>\n",
       "      <td>0</td>\n",
       "      <td>0</td>\n",
       "      <td>12</td>\n",
       "      <td>2015</td>\n",
       "    </tr>\n",
       "    <tr>\n",
       "      <th>...</th>\n",
       "      <td>...</td>\n",
       "      <td>...</td>\n",
       "      <td>...</td>\n",
       "      <td>...</td>\n",
       "      <td>...</td>\n",
       "      <td>...</td>\n",
       "      <td>...</td>\n",
       "      <td>...</td>\n",
       "      <td>...</td>\n",
       "      <td>...</td>\n",
       "      <td>...</td>\n",
       "      <td>...</td>\n",
       "      <td>...</td>\n",
       "      <td>...</td>\n",
       "      <td>...</td>\n",
       "      <td>...</td>\n",
       "      <td>...</td>\n",
       "      <td>...</td>\n",
       "      <td>...</td>\n",
       "      <td>...</td>\n",
       "      <td>...</td>\n",
       "    </tr>\n",
       "    <tr>\n",
       "      <th>83580</th>\n",
       "      <td>83581</td>\n",
       "      <td>48.0</td>\n",
       "      <td>0</td>\n",
       "      <td>20</td>\n",
       "      <td>176.0</td>\n",
       "      <td>147.0</td>\n",
       "      <td>0</td>\n",
       "      <td>0</td>\n",
       "      <td>1</td>\n",
       "      <td>4</td>\n",
       "      <td>...</td>\n",
       "      <td>0</td>\n",
       "      <td>0</td>\n",
       "      <td>0</td>\n",
       "      <td>0</td>\n",
       "      <td>0</td>\n",
       "      <td>0</td>\n",
       "      <td>0</td>\n",
       "      <td>0</td>\n",
       "      <td>12</td>\n",
       "      <td>2018</td>\n",
       "    </tr>\n",
       "    <tr>\n",
       "      <th>83582</th>\n",
       "      <td>83583</td>\n",
       "      <td>49.0</td>\n",
       "      <td>0</td>\n",
       "      <td>91</td>\n",
       "      <td>143.0</td>\n",
       "      <td>2.0</td>\n",
       "      <td>0</td>\n",
       "      <td>0</td>\n",
       "      <td>1</td>\n",
       "      <td>2</td>\n",
       "      <td>...</td>\n",
       "      <td>0</td>\n",
       "      <td>0</td>\n",
       "      <td>1</td>\n",
       "      <td>0</td>\n",
       "      <td>0</td>\n",
       "      <td>0</td>\n",
       "      <td>0</td>\n",
       "      <td>0</td>\n",
       "      <td>12</td>\n",
       "      <td>2018</td>\n",
       "    </tr>\n",
       "    <tr>\n",
       "      <th>83584</th>\n",
       "      <td>83585</td>\n",
       "      <td>52.0</td>\n",
       "      <td>0</td>\n",
       "      <td>116</td>\n",
       "      <td>336.9</td>\n",
       "      <td>105.5</td>\n",
       "      <td>0</td>\n",
       "      <td>0</td>\n",
       "      <td>1</td>\n",
       "      <td>8</td>\n",
       "      <td>...</td>\n",
       "      <td>0</td>\n",
       "      <td>0</td>\n",
       "      <td>0</td>\n",
       "      <td>0</td>\n",
       "      <td>0</td>\n",
       "      <td>0</td>\n",
       "      <td>0</td>\n",
       "      <td>0</td>\n",
       "      <td>12</td>\n",
       "      <td>2018</td>\n",
       "    </tr>\n",
       "    <tr>\n",
       "      <th>83586</th>\n",
       "      <td>83587</td>\n",
       "      <td>47.0</td>\n",
       "      <td>0</td>\n",
       "      <td>109</td>\n",
       "      <td>327.1</td>\n",
       "      <td>277.5</td>\n",
       "      <td>0</td>\n",
       "      <td>0</td>\n",
       "      <td>1</td>\n",
       "      <td>6</td>\n",
       "      <td>...</td>\n",
       "      <td>0</td>\n",
       "      <td>0</td>\n",
       "      <td>1</td>\n",
       "      <td>0</td>\n",
       "      <td>0</td>\n",
       "      <td>0</td>\n",
       "      <td>0</td>\n",
       "      <td>0</td>\n",
       "      <td>12</td>\n",
       "      <td>2018</td>\n",
       "    </tr>\n",
       "    <tr>\n",
       "      <th>83588</th>\n",
       "      <td>83589</td>\n",
       "      <td>85.0</td>\n",
       "      <td>0</td>\n",
       "      <td>109</td>\n",
       "      <td>981.3</td>\n",
       "      <td>9.0</td>\n",
       "      <td>0</td>\n",
       "      <td>0</td>\n",
       "      <td>1</td>\n",
       "      <td>6</td>\n",
       "      <td>...</td>\n",
       "      <td>0</td>\n",
       "      <td>0</td>\n",
       "      <td>0</td>\n",
       "      <td>1</td>\n",
       "      <td>0</td>\n",
       "      <td>0</td>\n",
       "      <td>0</td>\n",
       "      <td>0</td>\n",
       "      <td>12</td>\n",
       "      <td>2018</td>\n",
       "    </tr>\n",
       "  </tbody>\n",
       "</table>\n",
       "<p>63670 rows × 28 columns</p>\n",
       "</div>"
      ],
      "text/plain": [
       "          ID   Age  DaysSinceCreation  AverageLeadTime  LodgingRevenue  \\\n",
       "0          1  51.0                150               45           371.0   \n",
       "1          2  51.0               1095               61           280.0   \n",
       "3          4  60.0               1095               93           240.0   \n",
       "5          6  54.0               1095               58           230.0   \n",
       "7          8  32.0               1095               38           535.0   \n",
       "...      ...   ...                ...              ...             ...   \n",
       "83580  83581  48.0                  0               20           176.0   \n",
       "83582  83583  49.0                  0               91           143.0   \n",
       "83584  83585  52.0                  0              116           336.9   \n",
       "83586  83587  47.0                  0              109           327.1   \n",
       "83588  83589  85.0                  0              109           981.3   \n",
       "\n",
       "       OtherRevenue  BookingsCanceled  BookingsNoShowed  BookingsCheckedIn  \\\n",
       "0             105.3                 1                 0                  3   \n",
       "1              53.0                 0                 0                  1   \n",
       "3              60.0                 0                 0                  1   \n",
       "5              24.0                 0                 0                  1   \n",
       "7              94.0                 0                 0                  1   \n",
       "...             ...               ...               ...                ...   \n",
       "83580         147.0                 0                 0                  1   \n",
       "83582           2.0                 0                 0                  1   \n",
       "83584         105.5                 0                 0                  1   \n",
       "83586         277.5                 0                 0                  1   \n",
       "83588           9.0                 0                 0                  1   \n",
       "\n",
       "       PersonsNights  ...  SRShower  SRCrib  SRKingSizeBed  SRTwinBed  \\\n",
       "0                  8  ...         0       0              0          0   \n",
       "1                 10  ...         0       0              0          0   \n",
       "3                 10  ...         0       0              0          0   \n",
       "5                  4  ...         0       0              0          0   \n",
       "7                 10  ...         0       0              1          0   \n",
       "...              ...  ...       ...     ...            ...        ...   \n",
       "83580              4  ...         0       0              0          0   \n",
       "83582              2  ...         0       0              1          0   \n",
       "83584              8  ...         0       0              0          0   \n",
       "83586              6  ...         0       0              1          0   \n",
       "83588              6  ...         0       0              0          1   \n",
       "\n",
       "       SRNearElevator  SRAwayFromElevator  SRNoAlcoholInMiniBar  SRQuietRoom  \\\n",
       "0                   0                   0                     0            0   \n",
       "1                   0                   0                     0            0   \n",
       "3                   0                   0                     0            0   \n",
       "5                   0                   0                     0            0   \n",
       "7                   0                   0                     0            0   \n",
       "...               ...                 ...                   ...          ...   \n",
       "83580               0                   0                     0            0   \n",
       "83582               0                   0                     0            0   \n",
       "83584               0                   0                     0            0   \n",
       "83586               0                   0                     0            0   \n",
       "83588               0                   0                     0            0   \n",
       "\n",
       "       month  year  \n",
       "0          8  2018  \n",
       "1         12  2015  \n",
       "3         12  2015  \n",
       "5         12  2015  \n",
       "7         12  2015  \n",
       "...      ...   ...  \n",
       "83580     12  2018  \n",
       "83582     12  2018  \n",
       "83584     12  2018  \n",
       "83586     12  2018  \n",
       "83588     12  2018  \n",
       "\n",
       "[63670 rows x 28 columns]"
      ]
     },
     "execution_count": 74,
     "metadata": {},
     "output_type": "execute_result"
    }
   ],
   "source": [
    "num_data\n"
   ]
  },
  {
   "cell_type": "code",
   "execution_count": 75,
   "metadata": {},
   "outputs": [
    {
     "data": {
      "text/html": [
       "<div>\n",
       "<style scoped>\n",
       "    .dataframe tbody tr th:only-of-type {\n",
       "        vertical-align: middle;\n",
       "    }\n",
       "\n",
       "    .dataframe tbody tr th {\n",
       "        vertical-align: top;\n",
       "    }\n",
       "\n",
       "    .dataframe thead th {\n",
       "        text-align: right;\n",
       "    }\n",
       "</style>\n",
       "<table border=\"1\" class=\"dataframe\">\n",
       "  <thead>\n",
       "    <tr style=\"text-align: right;\">\n",
       "      <th></th>\n",
       "      <th>ID</th>\n",
       "      <th>Nationality</th>\n",
       "      <th>Age</th>\n",
       "      <th>DaysSinceCreation</th>\n",
       "      <th>DocIDHash</th>\n",
       "      <th>AverageLeadTime</th>\n",
       "      <th>LodgingRevenue</th>\n",
       "      <th>OtherRevenue</th>\n",
       "      <th>BookingsCanceled</th>\n",
       "      <th>BookingsNoShowed</th>\n",
       "      <th>...</th>\n",
       "      <th>SRCrib</th>\n",
       "      <th>SRKingSizeBed</th>\n",
       "      <th>SRTwinBed</th>\n",
       "      <th>SRNearElevator</th>\n",
       "      <th>SRAwayFromElevator</th>\n",
       "      <th>SRNoAlcoholInMiniBar</th>\n",
       "      <th>SRQuietRoom</th>\n",
       "      <th>month</th>\n",
       "      <th>year</th>\n",
       "      <th>Day</th>\n",
       "    </tr>\n",
       "  </thead>\n",
       "  <tbody>\n",
       "    <tr>\n",
       "      <th>0</th>\n",
       "      <td>1</td>\n",
       "      <td>PRT</td>\n",
       "      <td>51.0</td>\n",
       "      <td>150</td>\n",
       "      <td>0x71568459B729F7A7ABBED6C781A84CA4274D571003AC...</td>\n",
       "      <td>45</td>\n",
       "      <td>371.0</td>\n",
       "      <td>105.3</td>\n",
       "      <td>1</td>\n",
       "      <td>0</td>\n",
       "      <td>...</td>\n",
       "      <td>0</td>\n",
       "      <td>0</td>\n",
       "      <td>0</td>\n",
       "      <td>0</td>\n",
       "      <td>0</td>\n",
       "      <td>0</td>\n",
       "      <td>0</td>\n",
       "      <td>8</td>\n",
       "      <td>2018</td>\n",
       "      <td>Thursday</td>\n",
       "    </tr>\n",
       "    <tr>\n",
       "      <th>1</th>\n",
       "      <td>2</td>\n",
       "      <td>PRT</td>\n",
       "      <td>51.0</td>\n",
       "      <td>1095</td>\n",
       "      <td>0x5FA1E0098A31497057C5A6B9FE9D49FD6DD47CCE7C26...</td>\n",
       "      <td>61</td>\n",
       "      <td>280.0</td>\n",
       "      <td>53.0</td>\n",
       "      <td>0</td>\n",
       "      <td>0</td>\n",
       "      <td>...</td>\n",
       "      <td>0</td>\n",
       "      <td>0</td>\n",
       "      <td>0</td>\n",
       "      <td>0</td>\n",
       "      <td>0</td>\n",
       "      <td>0</td>\n",
       "      <td>0</td>\n",
       "      <td>12</td>\n",
       "      <td>2015</td>\n",
       "      <td>Sunday</td>\n",
       "    </tr>\n",
       "    <tr>\n",
       "      <th>3</th>\n",
       "      <td>4</td>\n",
       "      <td>FRA</td>\n",
       "      <td>60.0</td>\n",
       "      <td>1095</td>\n",
       "      <td>0xBD3823A9B4EC35D6CAF4B27AE423A677C0200DB61E82...</td>\n",
       "      <td>93</td>\n",
       "      <td>240.0</td>\n",
       "      <td>60.0</td>\n",
       "      <td>0</td>\n",
       "      <td>0</td>\n",
       "      <td>...</td>\n",
       "      <td>0</td>\n",
       "      <td>0</td>\n",
       "      <td>0</td>\n",
       "      <td>0</td>\n",
       "      <td>0</td>\n",
       "      <td>0</td>\n",
       "      <td>0</td>\n",
       "      <td>12</td>\n",
       "      <td>2015</td>\n",
       "      <td>Sunday</td>\n",
       "    </tr>\n",
       "    <tr>\n",
       "      <th>5</th>\n",
       "      <td>6</td>\n",
       "      <td>JPN</td>\n",
       "      <td>54.0</td>\n",
       "      <td>1095</td>\n",
       "      <td>0xE82EC1D6938A04CF19E1F7F55A402E7ABC686261537A...</td>\n",
       "      <td>58</td>\n",
       "      <td>230.0</td>\n",
       "      <td>24.0</td>\n",
       "      <td>0</td>\n",
       "      <td>0</td>\n",
       "      <td>...</td>\n",
       "      <td>0</td>\n",
       "      <td>0</td>\n",
       "      <td>0</td>\n",
       "      <td>0</td>\n",
       "      <td>0</td>\n",
       "      <td>0</td>\n",
       "      <td>0</td>\n",
       "      <td>12</td>\n",
       "      <td>2015</td>\n",
       "      <td>Wednesday</td>\n",
       "    </tr>\n",
       "    <tr>\n",
       "      <th>7</th>\n",
       "      <td>8</td>\n",
       "      <td>FRA</td>\n",
       "      <td>32.0</td>\n",
       "      <td>1095</td>\n",
       "      <td>0xB27F5644C88A7148360EFFF55D8F40565BAC3084B4C4...</td>\n",
       "      <td>38</td>\n",
       "      <td>535.0</td>\n",
       "      <td>94.0</td>\n",
       "      <td>0</td>\n",
       "      <td>0</td>\n",
       "      <td>...</td>\n",
       "      <td>0</td>\n",
       "      <td>1</td>\n",
       "      <td>0</td>\n",
       "      <td>0</td>\n",
       "      <td>0</td>\n",
       "      <td>0</td>\n",
       "      <td>0</td>\n",
       "      <td>12</td>\n",
       "      <td>2015</td>\n",
       "      <td>Sunday</td>\n",
       "    </tr>\n",
       "  </tbody>\n",
       "</table>\n",
       "<p>5 rows × 33 columns</p>\n",
       "</div>"
      ],
      "text/plain": [
       "   ID Nationality   Age  DaysSinceCreation  \\\n",
       "0   1         PRT  51.0                150   \n",
       "1   2         PRT  51.0               1095   \n",
       "3   4         FRA  60.0               1095   \n",
       "5   6         JPN  54.0               1095   \n",
       "7   8         FRA  32.0               1095   \n",
       "\n",
       "                                           DocIDHash  AverageLeadTime  \\\n",
       "0  0x71568459B729F7A7ABBED6C781A84CA4274D571003AC...               45   \n",
       "1  0x5FA1E0098A31497057C5A6B9FE9D49FD6DD47CCE7C26...               61   \n",
       "3  0xBD3823A9B4EC35D6CAF4B27AE423A677C0200DB61E82...               93   \n",
       "5  0xE82EC1D6938A04CF19E1F7F55A402E7ABC686261537A...               58   \n",
       "7  0xB27F5644C88A7148360EFFF55D8F40565BAC3084B4C4...               38   \n",
       "\n",
       "   LodgingRevenue  OtherRevenue  BookingsCanceled  BookingsNoShowed  ...  \\\n",
       "0           371.0         105.3                 1                 0  ...   \n",
       "1           280.0          53.0                 0                 0  ...   \n",
       "3           240.0          60.0                 0                 0  ...   \n",
       "5           230.0          24.0                 0                 0  ...   \n",
       "7           535.0          94.0                 0                 0  ...   \n",
       "\n",
       "   SRCrib  SRKingSizeBed  SRTwinBed  SRNearElevator  SRAwayFromElevator  \\\n",
       "0       0              0          0               0                   0   \n",
       "1       0              0          0               0                   0   \n",
       "3       0              0          0               0                   0   \n",
       "5       0              0          0               0                   0   \n",
       "7       0              1          0               0                   0   \n",
       "\n",
       "  SRNoAlcoholInMiniBar SRQuietRoom  month  year        Day  \n",
       "0                    0           0      8  2018   Thursday  \n",
       "1                    0           0     12  2015     Sunday  \n",
       "3                    0           0     12  2015     Sunday  \n",
       "5                    0           0     12  2015  Wednesday  \n",
       "7                    0           0     12  2015     Sunday  \n",
       "\n",
       "[5 rows x 33 columns]"
      ]
     },
     "execution_count": 75,
     "metadata": {},
     "output_type": "execute_result"
    }
   ],
   "source": [
    "d1.head()"
   ]
  },
  {
   "cell_type": "code",
   "execution_count": 76,
   "metadata": {},
   "outputs": [],
   "source": [
    "#capping method:\n",
    "for c in ['Age', 'DaysSinceCreation','OtherRevenue', 'BookingsCanceled', 'BookingsNoShowed','LodgingRevenue','OtherRevenue',\n",
    "       'BookingsCheckedIn', 'PersonsNights', 'RoomNights', 'DaysSinceLastStay', 'DaysSinceFirstStay']:\n",
    "    q1=np.quantile(d1[c],0.25)\n",
    "    q3=np.quantile(d1[c],0.75)\n",
    "    #print(q1,q3)\n",
    "    iqr=q3-q1\n",
    "    ll=q3+1.5*iqr\n",
    "    ul=q1-1.5*iqr\n",
    "    lb=np.quantile(d1[c],0.05)\n",
    "    ub=np.quantile(d1[c],0.95)\n",
    "    for i in d1[c].index:        \n",
    "        if d1.loc[i,c] > ub:\n",
    "            d1.loc[i,c] = ub\n",
    "        if d1.loc[i,c] < lb:\n",
    "            d1.loc[i,c] = lb"
   ]
  },
  {
   "cell_type": "code",
   "execution_count": 77,
   "metadata": {},
   "outputs": [
    {
     "name": "stdout",
     "output_type": "stream",
     "text": [
      "<class 'pandas.core.frame.DataFrame'>\n",
      "Int64Index: 63670 entries, 0 to 83588\n",
      "Data columns (total 33 columns):\n",
      " #   Column                Non-Null Count  Dtype  \n",
      "---  ------                --------------  -----  \n",
      " 0   ID                    63670 non-null  int64  \n",
      " 1   Nationality           63670 non-null  object \n",
      " 2   Age                   63670 non-null  float64\n",
      " 3   DaysSinceCreation     63670 non-null  int64  \n",
      " 4   DocIDHash             63670 non-null  object \n",
      " 5   AverageLeadTime       63670 non-null  int64  \n",
      " 6   LodgingRevenue        63670 non-null  float64\n",
      " 7   OtherRevenue          63670 non-null  float64\n",
      " 8   BookingsCanceled      63670 non-null  int64  \n",
      " 9   BookingsNoShowed      63670 non-null  int64  \n",
      " 10  BookingsCheckedIn     63670 non-null  int64  \n",
      " 11  PersonsNights         63670 non-null  int64  \n",
      " 12  RoomNights            63670 non-null  int64  \n",
      " 13  DaysSinceLastStay     63670 non-null  int64  \n",
      " 14  DaysSinceFirstStay    63670 non-null  int64  \n",
      " 15  DistributionChannel   63670 non-null  object \n",
      " 16  MarketSegment         63670 non-null  object \n",
      " 17  SRHighFloor           63670 non-null  int64  \n",
      " 18  SRLowFloor            63670 non-null  int64  \n",
      " 19  SRAccessibleRoom      63670 non-null  int64  \n",
      " 20  SRMediumFloor         63670 non-null  int64  \n",
      " 21  SRBathtub             63670 non-null  int64  \n",
      " 22  SRShower              63670 non-null  int64  \n",
      " 23  SRCrib                63670 non-null  int64  \n",
      " 24  SRKingSizeBed         63670 non-null  int64  \n",
      " 25  SRTwinBed             63670 non-null  int64  \n",
      " 26  SRNearElevator        63670 non-null  int64  \n",
      " 27  SRAwayFromElevator    63670 non-null  int64  \n",
      " 28  SRNoAlcoholInMiniBar  63670 non-null  int64  \n",
      " 29  SRQuietRoom           63670 non-null  int64  \n",
      " 30  month                 63670 non-null  int64  \n",
      " 31  year                  63670 non-null  int64  \n",
      " 32  Day                   63670 non-null  object \n",
      "dtypes: float64(3), int64(25), object(5)\n",
      "memory usage: 18.5+ MB\n"
     ]
    }
   ],
   "source": [
    "d1.info()"
   ]
  },
  {
   "cell_type": "code",
   "execution_count": 78,
   "metadata": {},
   "outputs": [],
   "source": [
    "d1.to_csv(r'D:\\Study Material\\Sem 6\\DMWA Project\\Hotel Customer Segmentation\\Unscaled_data.csv', index = False, header=True)"
   ]
  },
  {
   "cell_type": "code",
   "execution_count": 79,
   "metadata": {},
   "outputs": [],
   "source": [
    "d1['Amenities']=d1[['SRHighFloor', 'SRLowFloor', 'SRAccessibleRoom',\n",
    "       'SRMediumFloor', 'SRBathtub', 'SRShower', 'SRCrib', 'SRKingSizeBed',\n",
    "       'SRTwinBed', 'SRNearElevator', 'SRAwayFromElevator',\n",
    "       'SRNoAlcoholInMiniBar', 'SRQuietRoom']].sum(axis=1).astype(object)"
   ]
  },
  {
   "cell_type": "code",
   "execution_count": 80,
   "metadata": {},
   "outputs": [
    {
     "data": {
      "text/plain": [
       "array([0, 1, 2, 3, 4], dtype=object)"
      ]
     },
     "execution_count": 80,
     "metadata": {},
     "output_type": "execute_result"
    }
   ],
   "source": [
    "d1['Amenities'].unique()"
   ]
  },
  {
   "cell_type": "code",
   "execution_count": 81,
   "metadata": {},
   "outputs": [],
   "source": [
    "# The guest had requested more than 1 amentities"
   ]
  },
  {
   "cell_type": "code",
   "execution_count": 82,
   "metadata": {},
   "outputs": [],
   "source": [
    "d1.drop(['SRHighFloor', 'SRLowFloor', 'SRAccessibleRoom',\n",
    "       'SRMediumFloor', 'SRBathtub', 'SRShower', 'SRCrib', 'SRKingSizeBed',\n",
    "       'SRTwinBed', 'SRNearElevator', 'SRAwayFromElevator',\n",
    "       'SRNoAlcoholInMiniBar', 'SRQuietRoom'],axis=1,inplace=True) # dropping not relevant variables"
   ]
  },
  {
   "cell_type": "code",
   "execution_count": 83,
   "metadata": {},
   "outputs": [
    {
     "data": {
      "text/plain": [
       "PRT    9572\n",
       "FRA    9386\n",
       "DEU    7897\n",
       "GBR    6567\n",
       "ESP    3939\n",
       "ITA    2561\n",
       "USA    2433\n",
       "BEL    2329\n",
       "NLD    2061\n",
       "BRA    2023\n",
       "CHE    1589\n",
       "IRL    1489\n",
       "AUT    1094\n",
       "CAN     978\n",
       "SWE     907\n",
       "ISR     677\n",
       "CHN     674\n",
       "NOR     577\n",
       "POL     567\n",
       "AUS     523\n",
       "DNK     468\n",
       "FIN     447\n",
       "RUS     414\n",
       "ROU     370\n",
       "HUN     233\n",
       "JPN     215\n",
       "CZE     193\n",
       "GRC     182\n",
       "LUX     177\n",
       "AGO     152\n",
       "TUR     151\n",
       "ARG     150\n",
       "KOR     143\n",
       "IND     137\n",
       "MAR     127\n",
       "MEX     121\n",
       "SRB     121\n",
       "BGR     112\n",
       "HRV     112\n",
       "EST     100\n",
       "NZL      70\n",
       "DZA      65\n",
       "MOZ      61\n",
       "UKR      61\n",
       "LVA      60\n",
       "IRN      58\n",
       "SVK      58\n",
       "COL      55\n",
       "CHL      54\n",
       "TWN      53\n",
       "Name: Nationality, dtype: int64"
      ]
     },
     "execution_count": 83,
     "metadata": {},
     "output_type": "execute_result"
    }
   ],
   "source": [
    "d1['Nationality'].value_counts(ascending=False).head(50) # more than 50 countries have good amount of occurences"
   ]
  },
  {
   "cell_type": "code",
   "execution_count": 84,
   "metadata": {},
   "outputs": [],
   "source": [
    "#converting Countries into continents\n",
    "cont_code=pd.read_excel('code.xlsx')\n",
    "\n"
   ]
  },
  {
   "cell_type": "code",
   "execution_count": 85,
   "metadata": {},
   "outputs": [],
   "source": [
    "d1['Nationality'] = d1['Nationality'].replace(['TMP'],'TLS')\n",
    "d1=d1.merge(cont_code,how='left',on='Nationality')"
   ]
  },
  {
   "cell_type": "code",
   "execution_count": 86,
   "metadata": {},
   "outputs": [
    {
     "data": {
      "text/html": [
       "<div>\n",
       "<style scoped>\n",
       "    .dataframe tbody tr th:only-of-type {\n",
       "        vertical-align: middle;\n",
       "    }\n",
       "\n",
       "    .dataframe tbody tr th {\n",
       "        vertical-align: top;\n",
       "    }\n",
       "\n",
       "    .dataframe thead th {\n",
       "        text-align: right;\n",
       "    }\n",
       "</style>\n",
       "<table border=\"1\" class=\"dataframe\">\n",
       "  <thead>\n",
       "    <tr style=\"text-align: right;\">\n",
       "      <th></th>\n",
       "      <th>ID</th>\n",
       "      <th>Nationality</th>\n",
       "      <th>Age</th>\n",
       "      <th>DaysSinceCreation</th>\n",
       "      <th>DocIDHash</th>\n",
       "      <th>AverageLeadTime</th>\n",
       "      <th>LodgingRevenue</th>\n",
       "      <th>OtherRevenue</th>\n",
       "      <th>BookingsCanceled</th>\n",
       "      <th>BookingsNoShowed</th>\n",
       "      <th>...</th>\n",
       "      <th>RoomNights</th>\n",
       "      <th>DaysSinceLastStay</th>\n",
       "      <th>DaysSinceFirstStay</th>\n",
       "      <th>DistributionChannel</th>\n",
       "      <th>MarketSegment</th>\n",
       "      <th>month</th>\n",
       "      <th>year</th>\n",
       "      <th>Day</th>\n",
       "      <th>Amenities</th>\n",
       "      <th>Continent</th>\n",
       "    </tr>\n",
       "  </thead>\n",
       "  <tbody>\n",
       "    <tr>\n",
       "      <th>0</th>\n",
       "      <td>1</td>\n",
       "      <td>PRT</td>\n",
       "      <td>51.0</td>\n",
       "      <td>150</td>\n",
       "      <td>0x71568459B729F7A7ABBED6C781A84CA4274D571003AC...</td>\n",
       "      <td>45</td>\n",
       "      <td>371.0</td>\n",
       "      <td>105.3</td>\n",
       "      <td>0</td>\n",
       "      <td>0</td>\n",
       "      <td>...</td>\n",
       "      <td>5</td>\n",
       "      <td>151</td>\n",
       "      <td>999</td>\n",
       "      <td>Corporate</td>\n",
       "      <td>Corporate</td>\n",
       "      <td>8</td>\n",
       "      <td>2018</td>\n",
       "      <td>Thursday</td>\n",
       "      <td>0</td>\n",
       "      <td>Europe</td>\n",
       "    </tr>\n",
       "    <tr>\n",
       "      <th>1</th>\n",
       "      <td>2</td>\n",
       "      <td>PRT</td>\n",
       "      <td>51.0</td>\n",
       "      <td>997</td>\n",
       "      <td>0x5FA1E0098A31497057C5A6B9FE9D49FD6DD47CCE7C26...</td>\n",
       "      <td>61</td>\n",
       "      <td>280.0</td>\n",
       "      <td>53.0</td>\n",
       "      <td>0</td>\n",
       "      <td>0</td>\n",
       "      <td>...</td>\n",
       "      <td>5</td>\n",
       "      <td>998</td>\n",
       "      <td>999</td>\n",
       "      <td>Travel Agent/Operator</td>\n",
       "      <td>Travel Agent/Operator</td>\n",
       "      <td>12</td>\n",
       "      <td>2015</td>\n",
       "      <td>Sunday</td>\n",
       "      <td>0</td>\n",
       "      <td>Europe</td>\n",
       "    </tr>\n",
       "    <tr>\n",
       "      <th>2</th>\n",
       "      <td>4</td>\n",
       "      <td>FRA</td>\n",
       "      <td>60.0</td>\n",
       "      <td>997</td>\n",
       "      <td>0xBD3823A9B4EC35D6CAF4B27AE423A677C0200DB61E82...</td>\n",
       "      <td>93</td>\n",
       "      <td>240.0</td>\n",
       "      <td>60.0</td>\n",
       "      <td>0</td>\n",
       "      <td>0</td>\n",
       "      <td>...</td>\n",
       "      <td>5</td>\n",
       "      <td>998</td>\n",
       "      <td>999</td>\n",
       "      <td>Travel Agent/Operator</td>\n",
       "      <td>Travel Agent/Operator</td>\n",
       "      <td>12</td>\n",
       "      <td>2015</td>\n",
       "      <td>Sunday</td>\n",
       "      <td>0</td>\n",
       "      <td>Europe</td>\n",
       "    </tr>\n",
       "    <tr>\n",
       "      <th>3</th>\n",
       "      <td>6</td>\n",
       "      <td>JPN</td>\n",
       "      <td>54.0</td>\n",
       "      <td>997</td>\n",
       "      <td>0xE82EC1D6938A04CF19E1F7F55A402E7ABC686261537A...</td>\n",
       "      <td>58</td>\n",
       "      <td>230.0</td>\n",
       "      <td>24.0</td>\n",
       "      <td>0</td>\n",
       "      <td>0</td>\n",
       "      <td>...</td>\n",
       "      <td>2</td>\n",
       "      <td>998</td>\n",
       "      <td>999</td>\n",
       "      <td>Travel Agent/Operator</td>\n",
       "      <td>Other</td>\n",
       "      <td>12</td>\n",
       "      <td>2015</td>\n",
       "      <td>Wednesday</td>\n",
       "      <td>0</td>\n",
       "      <td>Asia</td>\n",
       "    </tr>\n",
       "    <tr>\n",
       "      <th>4</th>\n",
       "      <td>8</td>\n",
       "      <td>FRA</td>\n",
       "      <td>32.0</td>\n",
       "      <td>997</td>\n",
       "      <td>0xB27F5644C88A7148360EFFF55D8F40565BAC3084B4C4...</td>\n",
       "      <td>38</td>\n",
       "      <td>535.0</td>\n",
       "      <td>94.0</td>\n",
       "      <td>0</td>\n",
       "      <td>0</td>\n",
       "      <td>...</td>\n",
       "      <td>5</td>\n",
       "      <td>998</td>\n",
       "      <td>999</td>\n",
       "      <td>Travel Agent/Operator</td>\n",
       "      <td>Other</td>\n",
       "      <td>12</td>\n",
       "      <td>2015</td>\n",
       "      <td>Sunday</td>\n",
       "      <td>1</td>\n",
       "      <td>Europe</td>\n",
       "    </tr>\n",
       "    <tr>\n",
       "      <th>...</th>\n",
       "      <td>...</td>\n",
       "      <td>...</td>\n",
       "      <td>...</td>\n",
       "      <td>...</td>\n",
       "      <td>...</td>\n",
       "      <td>...</td>\n",
       "      <td>...</td>\n",
       "      <td>...</td>\n",
       "      <td>...</td>\n",
       "      <td>...</td>\n",
       "      <td>...</td>\n",
       "      <td>...</td>\n",
       "      <td>...</td>\n",
       "      <td>...</td>\n",
       "      <td>...</td>\n",
       "      <td>...</td>\n",
       "      <td>...</td>\n",
       "      <td>...</td>\n",
       "      <td>...</td>\n",
       "      <td>...</td>\n",
       "      <td>...</td>\n",
       "    </tr>\n",
       "    <tr>\n",
       "      <th>63665</th>\n",
       "      <td>83581</td>\n",
       "      <td>DEU</td>\n",
       "      <td>48.0</td>\n",
       "      <td>66</td>\n",
       "      <td>0x9A75BA8B885B4CCF562FEC991F4B34DDECE67D43DD04...</td>\n",
       "      <td>20</td>\n",
       "      <td>176.0</td>\n",
       "      <td>147.0</td>\n",
       "      <td>0</td>\n",
       "      <td>0</td>\n",
       "      <td>...</td>\n",
       "      <td>2</td>\n",
       "      <td>67</td>\n",
       "      <td>69</td>\n",
       "      <td>Travel Agent/Operator</td>\n",
       "      <td>Other</td>\n",
       "      <td>12</td>\n",
       "      <td>2018</td>\n",
       "      <td>Saturday</td>\n",
       "      <td>0</td>\n",
       "      <td>Europe</td>\n",
       "    </tr>\n",
       "    <tr>\n",
       "      <th>63666</th>\n",
       "      <td>83583</td>\n",
       "      <td>FRA</td>\n",
       "      <td>49.0</td>\n",
       "      <td>66</td>\n",
       "      <td>0x5672F95F21E93CDF0387BC40900503CA91352EA17B84...</td>\n",
       "      <td>91</td>\n",
       "      <td>143.0</td>\n",
       "      <td>6.0</td>\n",
       "      <td>0</td>\n",
       "      <td>0</td>\n",
       "      <td>...</td>\n",
       "      <td>1</td>\n",
       "      <td>67</td>\n",
       "      <td>69</td>\n",
       "      <td>Travel Agent/Operator</td>\n",
       "      <td>Other</td>\n",
       "      <td>12</td>\n",
       "      <td>2018</td>\n",
       "      <td>Sunday</td>\n",
       "      <td>1</td>\n",
       "      <td>Europe</td>\n",
       "    </tr>\n",
       "    <tr>\n",
       "      <th>63667</th>\n",
       "      <td>83585</td>\n",
       "      <td>ITA</td>\n",
       "      <td>52.0</td>\n",
       "      <td>66</td>\n",
       "      <td>0x7AE14552CC1ABDB74EED8F709E9ECDDA822F164C704F...</td>\n",
       "      <td>116</td>\n",
       "      <td>336.9</td>\n",
       "      <td>105.5</td>\n",
       "      <td>0</td>\n",
       "      <td>0</td>\n",
       "      <td>...</td>\n",
       "      <td>4</td>\n",
       "      <td>67</td>\n",
       "      <td>69</td>\n",
       "      <td>Travel Agent/Operator</td>\n",
       "      <td>Other</td>\n",
       "      <td>12</td>\n",
       "      <td>2018</td>\n",
       "      <td>Thursday</td>\n",
       "      <td>0</td>\n",
       "      <td>Europe</td>\n",
       "    </tr>\n",
       "    <tr>\n",
       "      <th>63668</th>\n",
       "      <td>83587</td>\n",
       "      <td>IRL</td>\n",
       "      <td>47.0</td>\n",
       "      <td>66</td>\n",
       "      <td>0xC0654B6A53840DD95DAE429966EC16E2A11FB186CC7B...</td>\n",
       "      <td>109</td>\n",
       "      <td>327.1</td>\n",
       "      <td>270.0</td>\n",
       "      <td>0</td>\n",
       "      <td>0</td>\n",
       "      <td>...</td>\n",
       "      <td>3</td>\n",
       "      <td>67</td>\n",
       "      <td>69</td>\n",
       "      <td>Travel Agent/Operator</td>\n",
       "      <td>Other</td>\n",
       "      <td>12</td>\n",
       "      <td>2018</td>\n",
       "      <td>Friday</td>\n",
       "      <td>1</td>\n",
       "      <td>Europe</td>\n",
       "    </tr>\n",
       "    <tr>\n",
       "      <th>63669</th>\n",
       "      <td>83589</td>\n",
       "      <td>IRL</td>\n",
       "      <td>72.0</td>\n",
       "      <td>66</td>\n",
       "      <td>0xEB64E8E6820F421508B96820AA3BA49404C01D178FE3...</td>\n",
       "      <td>109</td>\n",
       "      <td>981.3</td>\n",
       "      <td>9.0</td>\n",
       "      <td>0</td>\n",
       "      <td>0</td>\n",
       "      <td>...</td>\n",
       "      <td>3</td>\n",
       "      <td>67</td>\n",
       "      <td>69</td>\n",
       "      <td>Travel Agent/Operator</td>\n",
       "      <td>Other</td>\n",
       "      <td>12</td>\n",
       "      <td>2018</td>\n",
       "      <td>Friday</td>\n",
       "      <td>1</td>\n",
       "      <td>Europe</td>\n",
       "    </tr>\n",
       "  </tbody>\n",
       "</table>\n",
       "<p>63670 rows × 22 columns</p>\n",
       "</div>"
      ],
      "text/plain": [
       "          ID Nationality   Age  DaysSinceCreation  \\\n",
       "0          1         PRT  51.0                150   \n",
       "1          2         PRT  51.0                997   \n",
       "2          4         FRA  60.0                997   \n",
       "3          6         JPN  54.0                997   \n",
       "4          8         FRA  32.0                997   \n",
       "...      ...         ...   ...                ...   \n",
       "63665  83581         DEU  48.0                 66   \n",
       "63666  83583         FRA  49.0                 66   \n",
       "63667  83585         ITA  52.0                 66   \n",
       "63668  83587         IRL  47.0                 66   \n",
       "63669  83589         IRL  72.0                 66   \n",
       "\n",
       "                                               DocIDHash  AverageLeadTime  \\\n",
       "0      0x71568459B729F7A7ABBED6C781A84CA4274D571003AC...               45   \n",
       "1      0x5FA1E0098A31497057C5A6B9FE9D49FD6DD47CCE7C26...               61   \n",
       "2      0xBD3823A9B4EC35D6CAF4B27AE423A677C0200DB61E82...               93   \n",
       "3      0xE82EC1D6938A04CF19E1F7F55A402E7ABC686261537A...               58   \n",
       "4      0xB27F5644C88A7148360EFFF55D8F40565BAC3084B4C4...               38   \n",
       "...                                                  ...              ...   \n",
       "63665  0x9A75BA8B885B4CCF562FEC991F4B34DDECE67D43DD04...               20   \n",
       "63666  0x5672F95F21E93CDF0387BC40900503CA91352EA17B84...               91   \n",
       "63667  0x7AE14552CC1ABDB74EED8F709E9ECDDA822F164C704F...              116   \n",
       "63668  0xC0654B6A53840DD95DAE429966EC16E2A11FB186CC7B...              109   \n",
       "63669  0xEB64E8E6820F421508B96820AA3BA49404C01D178FE3...              109   \n",
       "\n",
       "       LodgingRevenue  OtherRevenue  BookingsCanceled  BookingsNoShowed  ...  \\\n",
       "0               371.0         105.3                 0                 0  ...   \n",
       "1               280.0          53.0                 0                 0  ...   \n",
       "2               240.0          60.0                 0                 0  ...   \n",
       "3               230.0          24.0                 0                 0  ...   \n",
       "4               535.0          94.0                 0                 0  ...   \n",
       "...               ...           ...               ...               ...  ...   \n",
       "63665           176.0         147.0                 0                 0  ...   \n",
       "63666           143.0           6.0                 0                 0  ...   \n",
       "63667           336.9         105.5                 0                 0  ...   \n",
       "63668           327.1         270.0                 0                 0  ...   \n",
       "63669           981.3           9.0                 0                 0  ...   \n",
       "\n",
       "       RoomNights  DaysSinceLastStay  DaysSinceFirstStay  \\\n",
       "0               5                151                 999   \n",
       "1               5                998                 999   \n",
       "2               5                998                 999   \n",
       "3               2                998                 999   \n",
       "4               5                998                 999   \n",
       "...           ...                ...                 ...   \n",
       "63665           2                 67                  69   \n",
       "63666           1                 67                  69   \n",
       "63667           4                 67                  69   \n",
       "63668           3                 67                  69   \n",
       "63669           3                 67                  69   \n",
       "\n",
       "         DistributionChannel          MarketSegment month  year        Day  \\\n",
       "0                  Corporate              Corporate     8  2018   Thursday   \n",
       "1      Travel Agent/Operator  Travel Agent/Operator    12  2015     Sunday   \n",
       "2      Travel Agent/Operator  Travel Agent/Operator    12  2015     Sunday   \n",
       "3      Travel Agent/Operator                  Other    12  2015  Wednesday   \n",
       "4      Travel Agent/Operator                  Other    12  2015     Sunday   \n",
       "...                      ...                    ...   ...   ...        ...   \n",
       "63665  Travel Agent/Operator                  Other    12  2018   Saturday   \n",
       "63666  Travel Agent/Operator                  Other    12  2018     Sunday   \n",
       "63667  Travel Agent/Operator                  Other    12  2018   Thursday   \n",
       "63668  Travel Agent/Operator                  Other    12  2018     Friday   \n",
       "63669  Travel Agent/Operator                  Other    12  2018     Friday   \n",
       "\n",
       "       Amenities Continent  \n",
       "0              0    Europe  \n",
       "1              0    Europe  \n",
       "2              0    Europe  \n",
       "3              0      Asia  \n",
       "4              1    Europe  \n",
       "...          ...       ...  \n",
       "63665          0    Europe  \n",
       "63666          1    Europe  \n",
       "63667          0    Europe  \n",
       "63668          1    Europe  \n",
       "63669          1    Europe  \n",
       "\n",
       "[63670 rows x 22 columns]"
      ]
     },
     "execution_count": 86,
     "metadata": {},
     "output_type": "execute_result"
    }
   ],
   "source": [
    "d1"
   ]
  },
  {
   "cell_type": "code",
   "execution_count": 87,
   "metadata": {},
   "outputs": [
    {
     "name": "stdout",
     "output_type": "stream",
     "text": [
      "<class 'pandas.core.frame.DataFrame'>\n",
      "Int64Index: 63670 entries, 0 to 63669\n",
      "Data columns (total 22 columns):\n",
      " #   Column               Non-Null Count  Dtype  \n",
      "---  ------               --------------  -----  \n",
      " 0   ID                   63670 non-null  int64  \n",
      " 1   Nationality          63670 non-null  object \n",
      " 2   Age                  63670 non-null  float64\n",
      " 3   DaysSinceCreation    63670 non-null  int64  \n",
      " 4   DocIDHash            63670 non-null  object \n",
      " 5   AverageLeadTime      63670 non-null  int64  \n",
      " 6   LodgingRevenue       63670 non-null  float64\n",
      " 7   OtherRevenue         63670 non-null  float64\n",
      " 8   BookingsCanceled     63670 non-null  int64  \n",
      " 9   BookingsNoShowed     63670 non-null  int64  \n",
      " 10  BookingsCheckedIn    63670 non-null  int64  \n",
      " 11  PersonsNights        63670 non-null  int64  \n",
      " 12  RoomNights           63670 non-null  int64  \n",
      " 13  DaysSinceLastStay    63670 non-null  int64  \n",
      " 14  DaysSinceFirstStay   63670 non-null  int64  \n",
      " 15  DistributionChannel  63670 non-null  object \n",
      " 16  MarketSegment        63670 non-null  object \n",
      " 17  month                63670 non-null  int64  \n",
      " 18  year                 63670 non-null  int64  \n",
      " 19  Day                  63670 non-null  object \n",
      " 20  Amenities            63670 non-null  object \n",
      " 21  Continent            63617 non-null  object \n",
      "dtypes: float64(3), int64(12), object(7)\n",
      "memory usage: 11.2+ MB\n"
     ]
    }
   ],
   "source": [
    "d1.info()\n"
   ]
  },
  {
   "cell_type": "code",
   "execution_count": 88,
   "metadata": {},
   "outputs": [
    {
     "data": {
      "text/plain": [
       "6     13704\n",
       "4     10418\n",
       "2      9628\n",
       "8      8249\n",
       "1      4147\n",
       "3      4018\n",
       "14     3925\n",
       "10     3468\n",
       "12     3091\n",
       "9      1845\n",
       "5       904\n",
       "7       221\n",
       "11       33\n",
       "13       19\n",
       "Name: PersonsNights, dtype: int64"
      ]
     },
     "execution_count": 88,
     "metadata": {},
     "output_type": "execute_result"
    }
   ],
   "source": [
    "d1['PersonsNights'].value_counts()"
   ]
  },
  {
   "cell_type": "code",
   "execution_count": 89,
   "metadata": {},
   "outputs": [],
   "source": [
    "def persons(x):\n",
    "    if x==0:\n",
    "        return \"0\"\n",
    "    elif x==1:\n",
    "        return \"1\"\n",
    "    elif x==2:\n",
    "        return \"2\"\n",
    "    elif x<=3 or x<=5:\n",
    "        return \"3 to 5\"\n",
    "    elif x<=6 or x<=10:\n",
    "        return \"6 to 10\"\n",
    "    elif x<=11 or x<=20:\n",
    "        return \"11 to 20\"\n",
    "    elif x<=21 or x<=30:\n",
    "        return \"21 to 30\"\n",
    "    else:\n",
    "        return \"30+\""
   ]
  },
  {
   "cell_type": "code",
   "execution_count": 90,
   "metadata": {},
   "outputs": [],
   "source": [
    "d1[\"PersonsNights\"]=d1[\"PersonsNights\"].apply(persons)"
   ]
  },
  {
   "cell_type": "code",
   "execution_count": 91,
   "metadata": {},
   "outputs": [],
   "source": [
    "d1[\"RoomNights\"]=d1[\"RoomNights\"].apply(persons)"
   ]
  },
  {
   "cell_type": "code",
   "execution_count": 92,
   "metadata": {},
   "outputs": [
    {
     "data": {
      "text/plain": [
       "0        6 to 10\n",
       "1        6 to 10\n",
       "2        6 to 10\n",
       "3         3 to 5\n",
       "4        6 to 10\n",
       "          ...   \n",
       "63665     3 to 5\n",
       "63666          2\n",
       "63667    6 to 10\n",
       "63668    6 to 10\n",
       "63669    6 to 10\n",
       "Name: PersonsNights, Length: 63670, dtype: object"
      ]
     },
     "execution_count": 92,
     "metadata": {},
     "output_type": "execute_result"
    }
   ],
   "source": [
    "d1[\"PersonsNights\"]"
   ]
  },
  {
   "cell_type": "code",
   "execution_count": 93,
   "metadata": {},
   "outputs": [
    {
     "data": {
      "text/plain": [
       "array(['6 to 10', '3 to 5', '11 to 20', '1', '2'], dtype=object)"
      ]
     },
     "execution_count": 93,
     "metadata": {},
     "output_type": "execute_result"
    }
   ],
   "source": [
    "d1['PersonsNights'].unique()"
   ]
  },
  {
   "cell_type": "code",
   "execution_count": 94,
   "metadata": {},
   "outputs": [
    {
     "data": {
      "text/plain": [
       "0        6 to 10\n",
       "1        6 to 10\n",
       "2        6 to 10\n",
       "3         3 to 5\n",
       "4        6 to 10\n",
       "          ...   \n",
       "63665     3 to 5\n",
       "63666          2\n",
       "63667    6 to 10\n",
       "63668    6 to 10\n",
       "63669    6 to 10\n",
       "Name: PersonsNights, Length: 63670, dtype: object"
      ]
     },
     "execution_count": 94,
     "metadata": {},
     "output_type": "execute_result"
    }
   ],
   "source": [
    "d1[\"PersonsNights\"]"
   ]
  },
  {
   "cell_type": "code",
   "execution_count": 95,
   "metadata": {},
   "outputs": [
    {
     "data": {
      "text/plain": [
       "6 to 10     27487\n",
       "3 to 5      15340\n",
       "2            9628\n",
       "11 to 20     7068\n",
       "1            4147\n",
       "Name: PersonsNights, dtype: int64"
      ]
     },
     "execution_count": 95,
     "metadata": {},
     "output_type": "execute_result"
    }
   ],
   "source": [
    "d1['PersonsNights'].value_counts()"
   ]
  },
  {
   "cell_type": "code",
   "execution_count": 96,
   "metadata": {},
   "outputs": [
    {
     "data": {
      "text/plain": [
       "array(['3 to 5', '2', '6 to 10', '1'], dtype=object)"
      ]
     },
     "execution_count": 96,
     "metadata": {},
     "output_type": "execute_result"
    }
   ],
   "source": [
    "d1['RoomNights'].unique()"
   ]
  },
  {
   "cell_type": "code",
   "execution_count": 97,
   "metadata": {},
   "outputs": [
    {
     "name": "stdout",
     "output_type": "stream",
     "text": [
      "<class 'pandas.core.frame.DataFrame'>\n",
      "Int64Index: 63670 entries, 0 to 63669\n",
      "Data columns (total 22 columns):\n",
      " #   Column               Non-Null Count  Dtype  \n",
      "---  ------               --------------  -----  \n",
      " 0   ID                   63670 non-null  int64  \n",
      " 1   Nationality          63670 non-null  object \n",
      " 2   Age                  63670 non-null  float64\n",
      " 3   DaysSinceCreation    63670 non-null  int64  \n",
      " 4   DocIDHash            63670 non-null  object \n",
      " 5   AverageLeadTime      63670 non-null  int64  \n",
      " 6   LodgingRevenue       63670 non-null  float64\n",
      " 7   OtherRevenue         63670 non-null  float64\n",
      " 8   BookingsCanceled     63670 non-null  int64  \n",
      " 9   BookingsNoShowed     63670 non-null  int64  \n",
      " 10  BookingsCheckedIn    63670 non-null  int64  \n",
      " 11  PersonsNights        63670 non-null  object \n",
      " 12  RoomNights           63670 non-null  object \n",
      " 13  DaysSinceLastStay    63670 non-null  int64  \n",
      " 14  DaysSinceFirstStay   63670 non-null  int64  \n",
      " 15  DistributionChannel  63670 non-null  object \n",
      " 16  MarketSegment        63670 non-null  object \n",
      " 17  month                63670 non-null  int64  \n",
      " 18  year                 63670 non-null  int64  \n",
      " 19  Day                  63670 non-null  object \n",
      " 20  Amenities            63670 non-null  object \n",
      " 21  Continent            63617 non-null  object \n",
      "dtypes: float64(3), int64(10), object(9)\n",
      "memory usage: 11.2+ MB\n"
     ]
    }
   ],
   "source": [
    "d1.info()"
   ]
  },
  {
   "cell_type": "code",
   "execution_count": 98,
   "metadata": {},
   "outputs": [
    {
     "data": {
      "image/png": "[encoded data removed]",
      "text/plain": [
       "<Figure size 720x504 with 1 Axes>"
      ]
     },
     "metadata": {},
     "output_type": "display_data"
    }
   ],
   "source": [
    "ax = d1['RoomNights'].value_counts().plot(kind='bar', figsize=(10,7),\n",
    "                                        color=\"coral\", fontsize=13);\n",
    "ax.set_alpha(0.8)\n",
    "ax.set_title(\" Rooms Booking Rate /person \", fontsize=18)\n",
    "ax.set_xlabel(\"Number of Bookings\", fontsize=18);\n",
    "ax.set_yticks([0, 5, 10, 15, 20])\n",
    "ax.legend()\n",
    "totals = []\n",
    "for i in ax.patches:      \n",
    "    totals.append(i.get_height())\n",
    "total = sum(totals)\n",
    "for i in ax.patches:\n",
    "    ax.text(i.get_x()-.03, i.get_height()+.5, \\\n",
    "            str(round((i.get_height()/total)*100, 2))+'%', fontsize=15,\n",
    "                color='black')"
   ]
  },
  {
   "cell_type": "code",
   "execution_count": 99,
   "metadata": {},
   "outputs": [
    {
     "data": {
      "image/png": "[encoded data removed]",
      "text/plain": [
       "<Figure size 720x504 with 1 Axes>"
      ]
     },
     "metadata": {},
     "output_type": "display_data"
    }
   ],
   "source": [
    "ax = d1['PersonsNights'].value_counts().plot(kind='bar', figsize=(10,7),\n",
    "                                        color=\"coral\", fontsize=13);\n",
    "ax.set_alpha(0.8)\n",
    "ax.set_title(\"\", fontsize=18)\n",
    "ax.set_xlabel(\"Number of Persons/Night\", fontsize=18);\n",
    "ax.set_yticks([0, 5, 10, 15, 20])\n",
    "ax.legend()\n",
    "totals = []\n",
    "for i in ax.patches:\n",
    "    totals.append(i.get_height())\n",
    "total = sum(totals)\n",
    "for i in ax.patches:\n",
    "    ax.text(i.get_x()-.03, i.get_height()+.5, \\\n",
    "            str(round((i.get_height()/total)*100, 2))+'%', fontsize=15,\n",
    "                color='black')"
   ]
  },
  {
   "cell_type": "code",
   "execution_count": 100,
   "metadata": {},
   "outputs": [
    {
     "data": {
      "image/png": "[encoded data removed]",
      "text/plain": [
       "<Figure size 720x504 with 1 Axes>"
      ]
     },
     "metadata": {},
     "output_type": "display_data"
    }
   ],
   "source": [
    "ax = d1['Amenities'].value_counts().plot(kind='bar', figsize=(10,7),\n",
    "                                        color=\"blue\", fontsize=13);\n",
    "ax.set_alpha(0.8)\n",
    "ax.set_title(\"\", fontsize=18)\n",
    "ax.set_xlabel(\"Number of special Requests\", fontsize=18);\n",
    "ax.set_yticks([0, 5, 10, 15, 20])\n",
    "ax.legend()\n",
    "totals = []\n",
    "for i in ax.patches:\n",
    "    totals.append(i.get_height())\n",
    "total = sum(totals)\n",
    "for i in ax.patches:\n",
    "    ax.text(i.get_x()-.03, i.get_height()+.5, \\\n",
    "            str(round((i.get_height()/total)*100, 2))+'%', fontsize=15,\n",
    "                color='black')\n",
    "    "
   ]
  },
  {
   "cell_type": "code",
   "execution_count": 101,
   "metadata": {},
   "outputs": [],
   "source": [
    "# Customers likely to book 1 booking with 3-5 rooms with 6-10 persons per Night"
   ]
  },
  {
   "cell_type": "code",
   "execution_count": 102,
   "metadata": {},
   "outputs": [
    {
     "data": {
      "text/plain": [
       "0     2793\n",
       "1     1705\n",
       "2     1057\n",
       "6     1045\n",
       "5     1018\n",
       "4     1016\n",
       "3      979\n",
       "7      957\n",
       "8      906\n",
       "9      675\n",
       "11     622\n",
       "13     622\n",
       "12     579\n",
       "10     569\n",
       "14     569\n",
       "20     548\n",
       "15     521\n",
       "19     517\n",
       "29     496\n",
       "21     495\n",
       "Name: AverageLeadTime, dtype: int64"
      ]
     },
     "execution_count": 102,
     "metadata": {},
     "output_type": "execute_result"
    }
   ],
   "source": [
    "d['AverageLeadTime'].value_counts(ascending=False).head(20)"
   ]
  },
  {
   "cell_type": "code",
   "execution_count": 103,
   "metadata": {},
   "outputs": [],
   "source": [
    "# creating sample dataframe for hypothesis testing"
   ]
  },
  {
   "cell_type": "code",
   "execution_count": 104,
   "metadata": {},
   "outputs": [],
   "source": [
    "sample=pd.concat([num_data,d1.select_dtypes(exclude=np.number)],axis=1) "
   ]
  },
  {
   "cell_type": "code",
   "execution_count": 105,
   "metadata": {},
   "outputs": [],
   "source": [
    "sample_df=sample.sample(frac=0.05)"
   ]
  },
  {
   "cell_type": "code",
   "execution_count": 106,
   "metadata": {},
   "outputs": [
    {
     "name": "stdout",
     "output_type": "stream",
     "text": [
      "72.0 24.0\n"
     ]
    }
   ],
   "source": [
    "print(sample_df['Age'].max(),sample_df['Age'].min())"
   ]
  },
  {
   "cell_type": "code",
   "execution_count": 107,
   "metadata": {},
   "outputs": [],
   "source": [
    "def age_grp(x):\n",
    "    if x>=20 and x<=30:\n",
    "        return '20-30'\n",
    "    elif x>=31 and x<=40:\n",
    "        return '31-40'\n",
    "    elif x>=41 and x<=50:\n",
    "        return '41-50'\n",
    "    elif x>=51 and x<=60:\n",
    "        return '51-60'\n",
    "    else:\n",
    "        return '60+'\n"
   ]
  },
  {
   "cell_type": "code",
   "execution_count": 108,
   "metadata": {},
   "outputs": [],
   "source": [
    "sample_df['Age_grp']=sample_df['Age'].apply(age_grp)"
   ]
  },
  {
   "cell_type": "code",
   "execution_count": 109,
   "metadata": {},
   "outputs": [
    {
     "data": {
      "text/html": [
       "<div>\n",
       "<style scoped>\n",
       "    .dataframe tbody tr th:only-of-type {\n",
       "        vertical-align: middle;\n",
       "    }\n",
       "\n",
       "    .dataframe tbody tr th {\n",
       "        vertical-align: top;\n",
       "    }\n",
       "\n",
       "    .dataframe thead th {\n",
       "        text-align: right;\n",
       "    }\n",
       "</style>\n",
       "<table border=\"1\" class=\"dataframe\">\n",
       "  <thead>\n",
       "    <tr style=\"text-align: right;\">\n",
       "      <th>Amenities</th>\n",
       "      <th>0</th>\n",
       "      <th>1</th>\n",
       "      <th>2</th>\n",
       "      <th>3</th>\n",
       "    </tr>\n",
       "    <tr>\n",
       "      <th>Age_grp</th>\n",
       "      <th></th>\n",
       "      <th></th>\n",
       "      <th></th>\n",
       "      <th></th>\n",
       "    </tr>\n",
       "  </thead>\n",
       "  <tbody>\n",
       "    <tr>\n",
       "      <th>20-30</th>\n",
       "      <td>162</td>\n",
       "      <td>152</td>\n",
       "      <td>26</td>\n",
       "      <td>4</td>\n",
       "    </tr>\n",
       "    <tr>\n",
       "      <th>31-40</th>\n",
       "      <td>251</td>\n",
       "      <td>208</td>\n",
       "      <td>49</td>\n",
       "      <td>4</td>\n",
       "    </tr>\n",
       "    <tr>\n",
       "      <th>41-50</th>\n",
       "      <td>274</td>\n",
       "      <td>241</td>\n",
       "      <td>58</td>\n",
       "      <td>4</td>\n",
       "    </tr>\n",
       "    <tr>\n",
       "      <th>51-60</th>\n",
       "      <td>336</td>\n",
       "      <td>336</td>\n",
       "      <td>73</td>\n",
       "      <td>4</td>\n",
       "    </tr>\n",
       "    <tr>\n",
       "      <th>60+</th>\n",
       "      <td>500</td>\n",
       "      <td>423</td>\n",
       "      <td>82</td>\n",
       "      <td>6</td>\n",
       "    </tr>\n",
       "  </tbody>\n",
       "</table>\n",
       "</div>"
      ],
      "text/plain": [
       "Amenities    0    1   2  3\n",
       "Age_grp                   \n",
       "20-30      162  152  26  4\n",
       "31-40      251  208  49  4\n",
       "41-50      274  241  58  4\n",
       "51-60      336  336  73  4\n",
       "60+        500  423  82  6"
      ]
     },
     "execution_count": 109,
     "metadata": {},
     "output_type": "execute_result"
    }
   ],
   "source": [
    "obs  = pd.crosstab(sample_df['Age_grp'],sample_df['Amenities'])\n",
    "obs"
   ]
  },
  {
   "cell_type": "code",
   "execution_count": 110,
   "metadata": {},
   "outputs": [
    {
     "data": {
      "text/html": [
       "<div>\n",
       "<style scoped>\n",
       "    .dataframe tbody tr th:only-of-type {\n",
       "        vertical-align: middle;\n",
       "    }\n",
       "\n",
       "    .dataframe tbody tr th {\n",
       "        vertical-align: top;\n",
       "    }\n",
       "\n",
       "    .dataframe thead th {\n",
       "        text-align: right;\n",
       "    }\n",
       "</style>\n",
       "<table border=\"1\" class=\"dataframe\">\n",
       "  <thead>\n",
       "    <tr style=\"text-align: right;\">\n",
       "      <th>DistributionChannel</th>\n",
       "      <th>Corporate</th>\n",
       "      <th>Direct</th>\n",
       "      <th>Electronic Distribution</th>\n",
       "      <th>Travel Agent/Operator</th>\n",
       "    </tr>\n",
       "    <tr>\n",
       "      <th>Continent</th>\n",
       "      <th></th>\n",
       "      <th></th>\n",
       "      <th></th>\n",
       "      <th></th>\n",
       "    </tr>\n",
       "  </thead>\n",
       "  <tbody>\n",
       "    <tr>\n",
       "      <th>Africa</th>\n",
       "      <td>0</td>\n",
       "      <td>9</td>\n",
       "      <td>0</td>\n",
       "      <td>20</td>\n",
       "    </tr>\n",
       "    <tr>\n",
       "      <th>Asia</th>\n",
       "      <td>2</td>\n",
       "      <td>13</td>\n",
       "      <td>0</td>\n",
       "      <td>103</td>\n",
       "    </tr>\n",
       "    <tr>\n",
       "      <th>Europe</th>\n",
       "      <td>93</td>\n",
       "      <td>345</td>\n",
       "      <td>22</td>\n",
       "      <td>2243</td>\n",
       "    </tr>\n",
       "    <tr>\n",
       "      <th>North America</th>\n",
       "      <td>6</td>\n",
       "      <td>31</td>\n",
       "      <td>3</td>\n",
       "      <td>153</td>\n",
       "    </tr>\n",
       "    <tr>\n",
       "      <th>Oceania</th>\n",
       "      <td>0</td>\n",
       "      <td>3</td>\n",
       "      <td>0</td>\n",
       "      <td>21</td>\n",
       "    </tr>\n",
       "    <tr>\n",
       "      <th>South America</th>\n",
       "      <td>7</td>\n",
       "      <td>15</td>\n",
       "      <td>0</td>\n",
       "      <td>101</td>\n",
       "    </tr>\n",
       "  </tbody>\n",
       "</table>\n",
       "</div>"
      ],
      "text/plain": [
       "DistributionChannel  Corporate  Direct  Electronic Distribution  \\\n",
       "Continent                                                         \n",
       "Africa                       0       9                        0   \n",
       "Asia                         2      13                        0   \n",
       "Europe                      93     345                       22   \n",
       "North America                6      31                        3   \n",
       "Oceania                      0       3                        0   \n",
       "South America                7      15                        0   \n",
       "\n",
       "DistributionChannel  Travel Agent/Operator  \n",
       "Continent                                   \n",
       "Africa                                  20  \n",
       "Asia                                   103  \n",
       "Europe                                2243  \n",
       "North America                          153  \n",
       "Oceania                                 21  \n",
       "South America                          101  "
      ]
     },
     "execution_count": 110,
     "metadata": {},
     "output_type": "execute_result"
    }
   ],
   "source": [
    "obs  = pd.crosstab(sample_df['Continent'],sample_df['DistributionChannel'])\n",
    "obs"
   ]
  },
  {
   "cell_type": "code",
   "execution_count": 111,
   "metadata": {},
   "outputs": [],
   "source": [
    "d1.to_csv(r'D:\\Study Material\\Sem 6\\DMWA Project/Hotel Customer Segmentation/data_d1.csv', index = False, header=True)\n"
   ]
  },
  {
   "cell_type": "code",
   "execution_count": null,
   "metadata": {},
   "outputs": [],
   "source": []
  },
  {
   "cell_type": "code",
   "execution_count": 112,
   "metadata": {},
   "outputs": [],
   "source": [
    "#Encoding"
   ]
  },
  {
   "cell_type": "code",
   "execution_count": 113,
   "metadata": {},
   "outputs": [
    {
     "data": {
      "text/plain": [
       "Index(['ID', 'Nationality', 'Age', 'DaysSinceCreation', 'DocIDHash',\n",
       "       'AverageLeadTime', 'LodgingRevenue', 'OtherRevenue', 'BookingsCanceled',\n",
       "       'BookingsNoShowed', 'BookingsCheckedIn', 'PersonsNights', 'RoomNights',\n",
       "       'DaysSinceLastStay', 'DaysSinceFirstStay', 'DistributionChannel',\n",
       "       'MarketSegment', 'month', 'year', 'Day', 'Amenities', 'Continent'],\n",
       "      dtype='object')"
      ]
     },
     "execution_count": 113,
     "metadata": {},
     "output_type": "execute_result"
    }
   ],
   "source": [
    "d1.columns"
   ]
  },
  {
   "cell_type": "code",
   "execution_count": 114,
   "metadata": {},
   "outputs": [],
   "source": [
    "dummy=pd.get_dummies(d1[['DistributionChannel', 'MarketSegment','Continent']],drop_first=True)"
   ]
  },
  {
   "cell_type": "code",
   "execution_count": 115,
   "metadata": {},
   "outputs": [],
   "source": [
    "# Label Encoding:\n",
    "from sklearn.preprocessing import LabelEncoder\n",
    "le=LabelEncoder()\n",
    "d1['BookingsCanceled']=le.fit_transform(d1['BookingsCanceled'])\n",
    "d1['BookingsNoShowed']=le.fit_transform(d1['BookingsNoShowed'])  \n",
    "d1['PersonsNights']=le.fit_transform(d1['PersonsNights'])\n",
    "d1['RoomNights']=le.fit_transform(d1['RoomNights'])\n",
    "d1['Amenities']=le.fit_transform(d1['Amenities'])"
   ]
  },
  {
   "cell_type": "code",
   "execution_count": 116,
   "metadata": {},
   "outputs": [],
   "source": [
    "num_data=d1.select_dtypes(include=np.number)"
   ]
  },
  {
   "cell_type": "code",
   "execution_count": 117,
   "metadata": {},
   "outputs": [],
   "source": [
    "data=pd.concat([num_data,dummy],axis=1)"
   ]
  },
  {
   "cell_type": "code",
   "execution_count": 118,
   "metadata": {},
   "outputs": [
    {
     "data": {
      "text/plain": [
       "BookingsCanceled     0.0\n",
       "BookingsNoShowed     0.0\n",
       "BookingsCheckedIn    0.0\n",
       "dtype: float64"
      ]
     },
     "execution_count": 118,
     "metadata": {},
     "output_type": "execute_result"
    }
   ],
   "source": [
    "data.var()[data.var()==0]"
   ]
  },
  {
   "cell_type": "code",
   "execution_count": 119,
   "metadata": {},
   "outputs": [],
   "source": [
    "data.drop(['BookingsCanceled','BookingsNoShowed','BookingsCheckedIn'],axis=1,inplace=True)"
   ]
  },
  {
   "cell_type": "code",
   "execution_count": 120,
   "metadata": {},
   "outputs": [
    {
     "data": {
      "text/html": [
       "<div>\n",
       "<style scoped>\n",
       "    .dataframe tbody tr th:only-of-type {\n",
       "        vertical-align: middle;\n",
       "    }\n",
       "\n",
       "    .dataframe tbody tr th {\n",
       "        vertical-align: top;\n",
       "    }\n",
       "\n",
       "    .dataframe thead th {\n",
       "        text-align: right;\n",
       "    }\n",
       "</style>\n",
       "<table border=\"1\" class=\"dataframe\">\n",
       "  <thead>\n",
       "    <tr style=\"text-align: right;\">\n",
       "      <th></th>\n",
       "      <th>ID</th>\n",
       "      <th>Age</th>\n",
       "      <th>DaysSinceCreation</th>\n",
       "      <th>AverageLeadTime</th>\n",
       "      <th>LodgingRevenue</th>\n",
       "      <th>OtherRevenue</th>\n",
       "      <th>PersonsNights</th>\n",
       "      <th>RoomNights</th>\n",
       "      <th>DaysSinceLastStay</th>\n",
       "      <th>DaysSinceFirstStay</th>\n",
       "      <th>...</th>\n",
       "      <th>MarketSegment_Direct</th>\n",
       "      <th>MarketSegment_Groups</th>\n",
       "      <th>MarketSegment_Other</th>\n",
       "      <th>MarketSegment_Travel Agent/Operator</th>\n",
       "      <th>Continent_Antarctica</th>\n",
       "      <th>Continent_Asia</th>\n",
       "      <th>Continent_Europe</th>\n",
       "      <th>Continent_North America</th>\n",
       "      <th>Continent_Oceania</th>\n",
       "      <th>Continent_South America</th>\n",
       "    </tr>\n",
       "  </thead>\n",
       "  <tbody>\n",
       "    <tr>\n",
       "      <th>0</th>\n",
       "      <td>1</td>\n",
       "      <td>51.0</td>\n",
       "      <td>150</td>\n",
       "      <td>45</td>\n",
       "      <td>371.0</td>\n",
       "      <td>105.3</td>\n",
       "      <td>4</td>\n",
       "      <td>2</td>\n",
       "      <td>151</td>\n",
       "      <td>999</td>\n",
       "      <td>...</td>\n",
       "      <td>0</td>\n",
       "      <td>0</td>\n",
       "      <td>0</td>\n",
       "      <td>0</td>\n",
       "      <td>0</td>\n",
       "      <td>0</td>\n",
       "      <td>1</td>\n",
       "      <td>0</td>\n",
       "      <td>0</td>\n",
       "      <td>0</td>\n",
       "    </tr>\n",
       "    <tr>\n",
       "      <th>1</th>\n",
       "      <td>2</td>\n",
       "      <td>51.0</td>\n",
       "      <td>997</td>\n",
       "      <td>61</td>\n",
       "      <td>280.0</td>\n",
       "      <td>53.0</td>\n",
       "      <td>4</td>\n",
       "      <td>2</td>\n",
       "      <td>998</td>\n",
       "      <td>999</td>\n",
       "      <td>...</td>\n",
       "      <td>0</td>\n",
       "      <td>0</td>\n",
       "      <td>0</td>\n",
       "      <td>1</td>\n",
       "      <td>0</td>\n",
       "      <td>0</td>\n",
       "      <td>1</td>\n",
       "      <td>0</td>\n",
       "      <td>0</td>\n",
       "      <td>0</td>\n",
       "    </tr>\n",
       "    <tr>\n",
       "      <th>2</th>\n",
       "      <td>4</td>\n",
       "      <td>60.0</td>\n",
       "      <td>997</td>\n",
       "      <td>93</td>\n",
       "      <td>240.0</td>\n",
       "      <td>60.0</td>\n",
       "      <td>4</td>\n",
       "      <td>2</td>\n",
       "      <td>998</td>\n",
       "      <td>999</td>\n",
       "      <td>...</td>\n",
       "      <td>0</td>\n",
       "      <td>0</td>\n",
       "      <td>0</td>\n",
       "      <td>1</td>\n",
       "      <td>0</td>\n",
       "      <td>0</td>\n",
       "      <td>1</td>\n",
       "      <td>0</td>\n",
       "      <td>0</td>\n",
       "      <td>0</td>\n",
       "    </tr>\n",
       "    <tr>\n",
       "      <th>3</th>\n",
       "      <td>6</td>\n",
       "      <td>54.0</td>\n",
       "      <td>997</td>\n",
       "      <td>58</td>\n",
       "      <td>230.0</td>\n",
       "      <td>24.0</td>\n",
       "      <td>3</td>\n",
       "      <td>1</td>\n",
       "      <td>998</td>\n",
       "      <td>999</td>\n",
       "      <td>...</td>\n",
       "      <td>0</td>\n",
       "      <td>0</td>\n",
       "      <td>1</td>\n",
       "      <td>0</td>\n",
       "      <td>0</td>\n",
       "      <td>1</td>\n",
       "      <td>0</td>\n",
       "      <td>0</td>\n",
       "      <td>0</td>\n",
       "      <td>0</td>\n",
       "    </tr>\n",
       "    <tr>\n",
       "      <th>4</th>\n",
       "      <td>8</td>\n",
       "      <td>32.0</td>\n",
       "      <td>997</td>\n",
       "      <td>38</td>\n",
       "      <td>535.0</td>\n",
       "      <td>94.0</td>\n",
       "      <td>4</td>\n",
       "      <td>2</td>\n",
       "      <td>998</td>\n",
       "      <td>999</td>\n",
       "      <td>...</td>\n",
       "      <td>0</td>\n",
       "      <td>0</td>\n",
       "      <td>1</td>\n",
       "      <td>0</td>\n",
       "      <td>0</td>\n",
       "      <td>0</td>\n",
       "      <td>1</td>\n",
       "      <td>0</td>\n",
       "      <td>0</td>\n",
       "      <td>0</td>\n",
       "    </tr>\n",
       "  </tbody>\n",
       "</table>\n",
       "<p>5 rows × 28 columns</p>\n",
       "</div>"
      ],
      "text/plain": [
       "   ID   Age  DaysSinceCreation  AverageLeadTime  LodgingRevenue  OtherRevenue  \\\n",
       "0   1  51.0                150               45           371.0         105.3   \n",
       "1   2  51.0                997               61           280.0          53.0   \n",
       "2   4  60.0                997               93           240.0          60.0   \n",
       "3   6  54.0                997               58           230.0          24.0   \n",
       "4   8  32.0                997               38           535.0          94.0   \n",
       "\n",
       "   PersonsNights  RoomNights  DaysSinceLastStay  DaysSinceFirstStay  ...  \\\n",
       "0              4           2                151                 999  ...   \n",
       "1              4           2                998                 999  ...   \n",
       "2              4           2                998                 999  ...   \n",
       "3              3           1                998                 999  ...   \n",
       "4              4           2                998                 999  ...   \n",
       "\n",
       "   MarketSegment_Direct  MarketSegment_Groups  MarketSegment_Other  \\\n",
       "0                     0                     0                    0   \n",
       "1                     0                     0                    0   \n",
       "2                     0                     0                    0   \n",
       "3                     0                     0                    1   \n",
       "4                     0                     0                    1   \n",
       "\n",
       "   MarketSegment_Travel Agent/Operator  Continent_Antarctica  Continent_Asia  \\\n",
       "0                                    0                     0               0   \n",
       "1                                    1                     0               0   \n",
       "2                                    1                     0               0   \n",
       "3                                    0                     0               1   \n",
       "4                                    0                     0               0   \n",
       "\n",
       "   Continent_Europe  Continent_North America  Continent_Oceania  \\\n",
       "0                 1                        0                  0   \n",
       "1                 1                        0                  0   \n",
       "2                 1                        0                  0   \n",
       "3                 0                        0                  0   \n",
       "4                 1                        0                  0   \n",
       "\n",
       "   Continent_South America  \n",
       "0                        0  \n",
       "1                        0  \n",
       "2                        0  \n",
       "3                        0  \n",
       "4                        0  \n",
       "\n",
       "[5 rows x 28 columns]"
      ]
     },
     "execution_count": 120,
     "metadata": {},
     "output_type": "execute_result"
    }
   ],
   "source": [
    "data.head()"
   ]
  },
  {
   "cell_type": "code",
   "execution_count": 121,
   "metadata": {},
   "outputs": [],
   "source": [
    "data.to_csv (r'D:/Study Material/Sem 6/DMWA Project/Hotel Customer Segmentation/Before_scaling_data.csv', index = False, header=True)\n"
   ]
  },
  {
   "cell_type": "code",
   "execution_count": 122,
   "metadata": {},
   "outputs": [],
   "source": [
    "#Scaling:\n",
    "from sklearn.preprocessing import StandardScaler \n",
    "\n",
    "X_scaler = StandardScaler()\n",
    "for i in ['Age', 'DaysSinceCreation', 'AverageLeadTime','OtherRevenue','DaysSinceLastStay','DaysSinceFirstStay','LodgingRevenue']:\n",
    "    data[i] = X_scaler.fit_transform(data[i].values.reshape(-1,1))\n"
   ]
  },
  {
   "cell_type": "code",
   "execution_count": 123,
   "metadata": {},
   "outputs": [],
   "source": [
    "data.to_csv (r'D:/Study Material/Sem 6/DMWA Project/Hotel Customer Segmentation/processed_data.csv', index = False, header=True)\n"
   ]
  },
  {
   "cell_type": "code",
   "execution_count": null,
   "metadata": {},
   "outputs": [],
   "source": []
  }
 ],
 "metadata": {
  "kernelspec": {
   "display_name": "Python 3 (ipykernel)",
   "language": "python",
   "name": "python3"
  },
  "language_info": {
   "codemirror_mode": {
    "name": "ipython",
    "version": 3
   },
   "file_extension": ".py",
   "mimetype": "text/x-python",
   "name": "python",
   "nbconvert_exporter": "python",
   "pygments_lexer": "ipython3",
   "version": "3.9.0"
  }
 },
 "nbformat": 4,
 "nbformat_minor": 4
}
